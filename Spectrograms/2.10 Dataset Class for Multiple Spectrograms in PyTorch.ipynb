{
 "cells": [
  {
   "cell_type": "markdown",
   "metadata": {},
   "source": [
    "Old Documentation:\n",
    "\n",
    "- [`import`](https://docs.python.org/3/reference/simple_stmts.html#the-import-statement)\n",
    "- [`len`](https://docs.python.org/3/library/functions.html#len)\n",
    "- [`numpy`](https://numpy.org/doc/1.19/user/whatisnumpy.html)\n",
    "- [`numpy.array`](https://numpy.org/doc/stable/reference/generated/numpy.array.html)\n",
    "- [numpy indexing](https://numpy.org/doc/stable/reference/arrays.indexing.html)\n",
    "- [`torch`](https://pytorch.org/docs/stable/index.html)\n",
    "- [`torch.Tensor`](https://pytorch.org/docs/stable/tensors.html#torch.Tensor)\n",
    "- [`torch.utils.data`](https://pytorch.org/docs/stable/data.html#torch.utils.data)\n",
    "- [`torch.utils.data.Dataset`](https://pytorch.org/docs/stable/data.html#torch.utils.data.Dataset)"
   ]
  },
  {
   "cell_type": "markdown",
   "metadata": {},
   "source": [
    "Import the numpy and pytorch (torch) modules."
   ]
  },
  {
   "cell_type": "code",
   "execution_count": 1,
   "metadata": {},
   "outputs": [],
   "source": [
    "import numpy as np\n",
    "import torch"
   ]
  },
  {
   "cell_type": "markdown",
   "metadata": {},
   "source": [
    "Create the sample dataset to be used in this notebook."
   ]
  },
  {
   "cell_type": "code",
   "execution_count": 2,
   "metadata": {},
   "outputs": [],
   "source": [
    "spectrograms  = np.load(\"./samples/spectrograms/linear/all_spectrograms.npy\", allow_pickle=True)"
   ]
  },
  {
   "cell_type": "markdown",
   "metadata": {},
   "source": [
    "**Step 1:** Code to be executed once at the beginning for initialization"
   ]
  },
  {
   "cell_type": "code",
   "execution_count": 3,
   "metadata": {},
   "outputs": [],
   "source": [
    "def init_(spectrograms):\n",
    "    \n",
    "    # Create a global variable of with the spectrogram to be accessed in other functions\n",
    "    global global_spectrograms\n",
    "    global_spectrograms = spectrograms\n",
    "    \n",
    "    # Create a global variable to store the list of all (recording, timestep) index pairs.\n",
    "    global global_index_map\n",
    "    global_index_map = []\n",
    "    \n",
    "    # Use two for loops to create a list of all (recording, timestep) index pairs.\n",
    "    for i, spectrogram in enumerate(spectrograms):\n",
    "        for j, frame in enumerate(spectrogram):\n",
    "            index_pair = (i, j)\n",
    "            global_index_map.append(index_pair)\n",
    "    \n",
    "    # Create a global variable of the number of timesteps to be accessed in other functions\n",
    "    global global_length\n",
    "    global_length = len(global_index_map)\n",
    "    \n",
    "    return None"
   ]
  },
  {
   "cell_type": "markdown",
   "metadata": {},
   "source": [
    "**Step 2:** Code to return the number of items as length"
   ]
  },
  {
   "cell_type": "code",
   "execution_count": 4,
   "metadata": {},
   "outputs": [],
   "source": [
    "def len_():\n",
    "    \n",
    "    # Return the global variable of the number of timesteps in the spectrogram\n",
    "    return global_length"
   ]
  },
  {
   "cell_type": "markdown",
   "metadata": {},
   "source": [
    "**Step 3:** Code to return the x item at sample i, row j"
   ]
  },
  {
   "cell_type": "code",
   "execution_count": 5,
   "metadata": {},
   "outputs": [],
   "source": [
    "def getitem_(index):\n",
    "    \n",
    "    # Get the recording index i and timestep index j that corresponds to the pair index\n",
    "    i, j = global_index_map[index]\n",
    "    \n",
    "    # Index the global spectrogram variable using the recording index i and timestep index j\n",
    "    frame = global_spectrograms[i][j, :]\n",
    "    \n",
    "    return frame"
   ]
  },
  {
   "cell_type": "markdown",
   "metadata": {},
   "source": [
    "**Step 4:** Code to return the collated list of items"
   ]
  },
  {
   "cell_type": "code",
   "execution_count": 6,
   "metadata": {},
   "outputs": [],
   "source": [
    "def collate_fn_(batch):\n",
    "    \n",
    "    # Index the global variable X at input index i    \n",
    "    batch = torch.as_tensor(batch)\n",
    "    \n",
    "    return batch"
   ]
  },
  {
   "cell_type": "markdown",
   "metadata": {},
   "source": [
    "Example of how to use init, len, getitem, and collate as functions. Here, we create a batch of size 4."
   ]
  },
  {
   "cell_type": "code",
   "execution_count": 7,
   "metadata": {},
   "outputs": [
    {
     "name": "stdout",
     "output_type": "stream",
     "text": [
      "tensor([[0.0000e+00, 0.0000e+00, 0.0000e+00, 0.0000e+00, 0.0000e+00, 0.0000e+00,\n",
      "         0.0000e+00, 0.0000e+00, 0.0000e+00, 0.0000e+00, 0.0000e+00, 0.0000e+00,\n",
      "         0.0000e+00, 0.0000e+00, 0.0000e+00, 0.0000e+00, 0.0000e+00, 0.0000e+00,\n",
      "         0.0000e+00, 0.0000e+00, 0.0000e+00, 0.0000e+00, 0.0000e+00, 0.0000e+00,\n",
      "         0.0000e+00, 0.0000e+00, 0.0000e+00, 0.0000e+00, 0.0000e+00, 0.0000e+00,\n",
      "         0.0000e+00, 0.0000e+00, 0.0000e+00, 0.0000e+00, 0.0000e+00, 0.0000e+00,\n",
      "         0.0000e+00, 0.0000e+00, 0.0000e+00, 0.0000e+00, 0.0000e+00, 0.0000e+00,\n",
      "         0.0000e+00, 0.0000e+00, 0.0000e+00, 0.0000e+00, 0.0000e+00, 0.0000e+00,\n",
      "         0.0000e+00, 0.0000e+00, 0.0000e+00, 0.0000e+00, 0.0000e+00, 0.0000e+00,\n",
      "         0.0000e+00, 0.0000e+00, 0.0000e+00, 0.0000e+00, 0.0000e+00, 0.0000e+00,\n",
      "         0.0000e+00, 0.0000e+00, 0.0000e+00, 0.0000e+00, 0.0000e+00, 0.0000e+00,\n",
      "         0.0000e+00, 0.0000e+00, 0.0000e+00, 0.0000e+00, 0.0000e+00, 0.0000e+00,\n",
      "         0.0000e+00, 0.0000e+00, 0.0000e+00, 0.0000e+00, 0.0000e+00, 0.0000e+00,\n",
      "         0.0000e+00, 0.0000e+00, 0.0000e+00, 0.0000e+00, 0.0000e+00, 0.0000e+00,\n",
      "         0.0000e+00, 0.0000e+00, 0.0000e+00, 0.0000e+00, 0.0000e+00, 0.0000e+00,\n",
      "         0.0000e+00, 0.0000e+00, 0.0000e+00, 0.0000e+00, 0.0000e+00, 0.0000e+00,\n",
      "         0.0000e+00, 0.0000e+00, 0.0000e+00, 0.0000e+00, 0.0000e+00, 0.0000e+00,\n",
      "         0.0000e+00, 0.0000e+00, 0.0000e+00, 0.0000e+00, 0.0000e+00, 0.0000e+00,\n",
      "         0.0000e+00, 0.0000e+00, 0.0000e+00, 0.0000e+00, 0.0000e+00, 0.0000e+00,\n",
      "         0.0000e+00, 0.0000e+00, 0.0000e+00, 0.0000e+00, 0.0000e+00, 0.0000e+00,\n",
      "         0.0000e+00, 0.0000e+00, 0.0000e+00, 0.0000e+00, 0.0000e+00, 0.0000e+00,\n",
      "         0.0000e+00, 0.0000e+00, 0.0000e+00],\n",
      "        [0.0000e+00, 0.0000e+00, 0.0000e+00, 0.0000e+00, 0.0000e+00, 0.0000e+00,\n",
      "         0.0000e+00, 0.0000e+00, 0.0000e+00, 0.0000e+00, 0.0000e+00, 0.0000e+00,\n",
      "         0.0000e+00, 0.0000e+00, 0.0000e+00, 0.0000e+00, 0.0000e+00, 0.0000e+00,\n",
      "         0.0000e+00, 0.0000e+00, 0.0000e+00, 0.0000e+00, 0.0000e+00, 0.0000e+00,\n",
      "         0.0000e+00, 0.0000e+00, 0.0000e+00, 0.0000e+00, 0.0000e+00, 0.0000e+00,\n",
      "         0.0000e+00, 0.0000e+00, 0.0000e+00, 0.0000e+00, 0.0000e+00, 0.0000e+00,\n",
      "         0.0000e+00, 0.0000e+00, 0.0000e+00, 0.0000e+00, 0.0000e+00, 0.0000e+00,\n",
      "         0.0000e+00, 0.0000e+00, 0.0000e+00, 0.0000e+00, 0.0000e+00, 0.0000e+00,\n",
      "         0.0000e+00, 0.0000e+00, 0.0000e+00, 0.0000e+00, 0.0000e+00, 0.0000e+00,\n",
      "         0.0000e+00, 0.0000e+00, 0.0000e+00, 0.0000e+00, 0.0000e+00, 0.0000e+00,\n",
      "         0.0000e+00, 0.0000e+00, 0.0000e+00, 0.0000e+00, 0.0000e+00, 0.0000e+00,\n",
      "         0.0000e+00, 0.0000e+00, 0.0000e+00, 0.0000e+00, 0.0000e+00, 0.0000e+00,\n",
      "         0.0000e+00, 0.0000e+00, 0.0000e+00, 0.0000e+00, 0.0000e+00, 0.0000e+00,\n",
      "         0.0000e+00, 0.0000e+00, 0.0000e+00, 0.0000e+00, 0.0000e+00, 0.0000e+00,\n",
      "         0.0000e+00, 0.0000e+00, 0.0000e+00, 0.0000e+00, 0.0000e+00, 0.0000e+00,\n",
      "         0.0000e+00, 0.0000e+00, 0.0000e+00, 0.0000e+00, 0.0000e+00, 0.0000e+00,\n",
      "         0.0000e+00, 0.0000e+00, 0.0000e+00, 0.0000e+00, 0.0000e+00, 0.0000e+00,\n",
      "         0.0000e+00, 0.0000e+00, 0.0000e+00, 0.0000e+00, 0.0000e+00, 0.0000e+00,\n",
      "         0.0000e+00, 0.0000e+00, 0.0000e+00, 0.0000e+00, 0.0000e+00, 0.0000e+00,\n",
      "         0.0000e+00, 0.0000e+00, 0.0000e+00, 0.0000e+00, 0.0000e+00, 0.0000e+00,\n",
      "         0.0000e+00, 0.0000e+00, 0.0000e+00, 0.0000e+00, 0.0000e+00, 0.0000e+00,\n",
      "         0.0000e+00, 0.0000e+00, 0.0000e+00],\n",
      "        [7.4569e+00, 3.3052e+04, 8.9443e+03, 1.3439e+04, 2.1236e+04, 2.5165e+04,\n",
      "         1.1143e+04, 2.3451e+02, 1.1477e+02, 1.3309e+01, 5.8155e+01, 1.8534e+01,\n",
      "         1.4713e+02, 2.0577e+02, 5.4471e+01, 1.2396e+00, 7.6694e-01, 3.8313e+00,\n",
      "         5.3340e+00, 8.8102e+00, 9.6474e+00, 3.4827e+00, 6.8799e-01, 7.3533e-02,\n",
      "         9.6434e-01, 1.1165e+00, 1.8439e-01, 2.4468e-02, 8.4303e-03, 8.7906e-03,\n",
      "         3.7429e-01, 6.9701e-01, 9.1577e-01, 6.7598e+00, 3.0352e-01, 2.4077e+00,\n",
      "         3.8208e+00, 1.8034e+00, 1.0247e+00, 1.6983e-01, 4.3225e-03, 2.3963e-01,\n",
      "         1.0665e-02, 5.0772e-03, 1.1268e-02, 1.1340e-04, 1.2724e-01, 5.8262e-01,\n",
      "         8.7793e-01, 6.3743e-01, 8.1853e-01, 1.7601e-01, 9.2962e-03, 2.5115e-02,\n",
      "         7.4388e-04, 4.8996e-04, 1.3785e-03, 6.4715e-03, 5.6960e-05, 5.0620e-05,\n",
      "         5.0856e-06, 2.0827e-05, 2.8809e-05, 8.4548e-05, 9.8814e-06, 3.9945e-06,\n",
      "         1.0885e-06, 6.1710e-06, 2.0434e-05, 3.4039e-06, 3.5531e-06, 6.5486e-06,\n",
      "         1.2391e-05, 1.0398e-05, 2.9638e-06, 1.5748e-06, 8.7291e-06, 2.3837e-06,\n",
      "         5.6498e-06, 1.1465e-07, 2.3606e-05, 4.7111e-06, 6.8077e-06, 3.0424e-06,\n",
      "         1.6302e-05, 5.5849e-06, 6.4372e-06, 4.1437e-06, 1.7104e-06, 1.2917e-07,\n",
      "         3.0354e-07, 2.2805e-06, 2.7895e-06, 5.9470e-06, 4.2059e-08, 4.8462e-06,\n",
      "         2.1685e-06, 1.7802e-05, 3.3553e-06, 1.0028e-06, 9.5469e-07, 5.4512e-06,\n",
      "         2.1186e-06, 5.1183e-08, 8.2296e-07, 2.9445e-06, 1.3758e-05, 9.9892e-06,\n",
      "         3.6507e-07, 2.9499e-06, 1.9024e-06, 3.6218e-06, 1.2124e-06, 3.8525e-06,\n",
      "         4.5622e-07, 7.1847e-07, 1.6949e-06, 1.9551e-05, 3.7826e-06, 2.5625e-06,\n",
      "         3.0981e-06, 3.9089e-06, 1.8386e-06, 1.4601e-06, 4.7584e-06, 8.8767e-06,\n",
      "         6.3016e-06, 1.5640e-06, 1.1074e-05],\n",
      "        [3.0106e+02, 4.7289e+04, 2.4084e+04, 1.4642e+04, 7.6171e+03, 2.1435e+03,\n",
      "         2.2300e+03, 3.6488e+03, 7.0839e+03, 3.9354e+03, 2.2228e+03, 9.5769e+02,\n",
      "         2.0694e+02, 8.8068e+01, 4.5722e+01, 2.4137e+01, 1.1370e+01, 4.7219e+00,\n",
      "         3.8321e+00, 3.8677e+00, 4.3218e+00, 9.5676e-01, 5.3942e-01, 1.7491e-01,\n",
      "         4.9528e-01, 3.8292e-01, 2.2798e-01, 1.4296e-01, 2.9159e-02, 2.6530e-02,\n",
      "         5.3513e-02, 7.9966e-03, 1.1590e-01, 1.7227e-01, 4.1071e-02, 1.8894e-01,\n",
      "         1.0053e+00, 4.8996e-01, 9.7080e-01, 3.4569e-01, 7.6206e-01, 9.1407e-02,\n",
      "         3.6333e-01, 4.0246e-01, 1.5792e+00, 1.5834e+00, 2.2953e+00, 2.0237e+00,\n",
      "         1.2618e+00, 2.7529e+00, 1.1644e+00, 9.6428e-01, 5.7625e+00, 2.4258e+00,\n",
      "         2.6800e-01, 5.8159e-02, 2.8037e-02, 1.1094e-02, 3.7864e-03, 5.8415e-04,\n",
      "         1.3841e-04, 2.5253e-04, 3.1656e-04, 3.4221e-04, 1.9229e-04, 5.9736e-05,\n",
      "         6.7207e-05, 1.9285e-05, 1.1086e-05, 1.1327e-05, 4.0681e-05, 5.4773e-05,\n",
      "         7.9172e-05, 2.2384e-05, 1.4093e-05, 8.3666e-06, 1.2007e-05, 5.6413e-06,\n",
      "         8.3214e-06, 2.7669e-05, 1.3732e-05, 4.1241e-05, 1.1874e-05, 1.9563e-05,\n",
      "         1.0975e-05, 8.7982e-06, 2.2274e-05, 2.0896e-05, 1.2758e-05, 6.3994e-06,\n",
      "         1.1327e-05, 1.1802e-06, 1.6342e-05, 5.7528e-06, 7.8633e-06, 9.0912e-07,\n",
      "         9.5255e-06, 5.1283e-06, 8.1435e-06, 2.5153e-06, 8.5562e-07, 1.0012e-06,\n",
      "         2.8524e-06, 7.2202e-06, 5.8826e-06, 1.6862e-07, 4.8727e-06, 1.6758e-06,\n",
      "         1.0788e-05, 1.0276e-06, 1.3013e-05, 5.1828e-06, 2.6161e-06, 4.3790e-06,\n",
      "         5.5821e-06, 7.6970e-06, 1.0956e-07, 4.6844e-06, 2.6090e-06, 4.8991e-06,\n",
      "         9.8453e-06, 1.3439e-05, 1.0932e-06, 6.0956e-06, 6.8438e-06, 6.1237e-06,\n",
      "         2.3781e-05, 4.5239e-06, 5.4579e-06]])\n"
     ]
    }
   ],
   "source": [
    "# Initialize the spectrogram dataset\n",
    "init_(spectrograms)\n",
    "\n",
    "# Get the number of timesteps in the spectrogram dataset\n",
    "dataset_size = len_()\n",
    "\n",
    "# Create a random sample of 4 timesteps from the spectrogram dataset\n",
    "sample_size = 4\n",
    "sample_indices = np.random.choice(dataset_size, sample_size, replace=False)\n",
    "\n",
    "# Create an empty list to store batch frame items from the spectrogram\n",
    "batch = []\n",
    "\n",
    "# Use a for loop to get all batch frame items\n",
    "for i in sample_indices:\n",
    "    batch.append(getitem_(i))\n",
    "    \n",
    "# Collate the list of batch items into a usable form\n",
    "batch = collate_fn_(batch)\n",
    "print(batch)"
   ]
  },
  {
   "cell_type": "markdown",
   "metadata": {},
   "source": [
    "Example of how to create a Dataset class using init, len, getitem and collate "
   ]
  },
  {
   "cell_type": "code",
   "execution_count": 8,
   "metadata": {},
   "outputs": [],
   "source": [
    "class ExampleDataset(torch.utils.data.Dataset):\n",
    "    \n",
    "    def __init__(self, spectrograms):\n",
    "        \n",
    "        ### Code to be executed once at the beginning for initialization\n",
    "        self.spectrograms = spectrograms\n",
    "        \n",
    "        self.index_map = []\n",
    "        for i, spectrogram in enumerate(spectrograms):\n",
    "            for j, frame in enumerate(spectrogram):\n",
    "                index_pair = (i, j)\n",
    "                self.index_map.append(index_pair)\n",
    "        \n",
    "        self.length = len(self.index_map)\n",
    "        \n",
    "    def __len__(self):\n",
    "        \n",
    "        ### Return the number of items as length\n",
    "        return self.length\n",
    "    \n",
    "    def __getitem__(self, index):\n",
    "        \n",
    "        ### Return one item at recording i, timestep j\n",
    "        i, j = self.index_map[index]\n",
    "        frame = self.spectrograms[i][j, :]\n",
    "\n",
    "        return frame\n",
    "    \n",
    "    def collate_fn(batch):\n",
    "        \n",
    "        ### Specify how to collate list of items and what to return\n",
    "        batch = torch.as_tensor(batch)\n",
    "\n",
    "        return batch"
   ]
  },
  {
   "cell_type": "markdown",
   "metadata": {},
   "source": [
    "Example of how to use the dataset class and create a batch of size 4."
   ]
  },
  {
   "cell_type": "code",
   "execution_count": 9,
   "metadata": {},
   "outputs": [
    {
     "name": "stdout",
     "output_type": "stream",
     "text": [
      "tensor([[0.0000e+00, 0.0000e+00, 0.0000e+00, 0.0000e+00, 0.0000e+00, 0.0000e+00,\n",
      "         0.0000e+00, 0.0000e+00, 0.0000e+00, 0.0000e+00, 0.0000e+00, 0.0000e+00,\n",
      "         0.0000e+00, 0.0000e+00, 0.0000e+00, 0.0000e+00, 0.0000e+00, 0.0000e+00,\n",
      "         0.0000e+00, 0.0000e+00, 0.0000e+00, 0.0000e+00, 0.0000e+00, 0.0000e+00,\n",
      "         0.0000e+00, 0.0000e+00, 0.0000e+00, 0.0000e+00, 0.0000e+00, 0.0000e+00,\n",
      "         0.0000e+00, 0.0000e+00, 0.0000e+00, 0.0000e+00, 0.0000e+00, 0.0000e+00,\n",
      "         0.0000e+00, 0.0000e+00, 0.0000e+00, 0.0000e+00, 0.0000e+00, 0.0000e+00,\n",
      "         0.0000e+00, 0.0000e+00, 0.0000e+00, 0.0000e+00, 0.0000e+00, 0.0000e+00,\n",
      "         0.0000e+00, 0.0000e+00, 0.0000e+00, 0.0000e+00, 0.0000e+00, 0.0000e+00,\n",
      "         0.0000e+00, 0.0000e+00, 0.0000e+00, 0.0000e+00, 0.0000e+00, 0.0000e+00,\n",
      "         0.0000e+00, 0.0000e+00, 0.0000e+00, 0.0000e+00, 0.0000e+00, 0.0000e+00,\n",
      "         0.0000e+00, 0.0000e+00, 0.0000e+00, 0.0000e+00, 0.0000e+00, 0.0000e+00,\n",
      "         0.0000e+00, 0.0000e+00, 0.0000e+00, 0.0000e+00, 0.0000e+00, 0.0000e+00,\n",
      "         0.0000e+00, 0.0000e+00, 0.0000e+00, 0.0000e+00, 0.0000e+00, 0.0000e+00,\n",
      "         0.0000e+00, 0.0000e+00, 0.0000e+00, 0.0000e+00, 0.0000e+00, 0.0000e+00,\n",
      "         0.0000e+00, 0.0000e+00, 0.0000e+00, 0.0000e+00, 0.0000e+00, 0.0000e+00,\n",
      "         0.0000e+00, 0.0000e+00, 0.0000e+00, 0.0000e+00, 0.0000e+00, 0.0000e+00,\n",
      "         0.0000e+00, 0.0000e+00, 0.0000e+00, 0.0000e+00, 0.0000e+00, 0.0000e+00,\n",
      "         0.0000e+00, 0.0000e+00, 0.0000e+00, 0.0000e+00, 0.0000e+00, 0.0000e+00,\n",
      "         0.0000e+00, 0.0000e+00, 0.0000e+00, 0.0000e+00, 0.0000e+00, 0.0000e+00,\n",
      "         0.0000e+00, 0.0000e+00, 0.0000e+00, 0.0000e+00, 0.0000e+00, 0.0000e+00,\n",
      "         0.0000e+00, 0.0000e+00, 0.0000e+00],\n",
      "        [0.0000e+00, 0.0000e+00, 0.0000e+00, 0.0000e+00, 0.0000e+00, 0.0000e+00,\n",
      "         0.0000e+00, 0.0000e+00, 0.0000e+00, 0.0000e+00, 0.0000e+00, 0.0000e+00,\n",
      "         0.0000e+00, 0.0000e+00, 0.0000e+00, 0.0000e+00, 0.0000e+00, 0.0000e+00,\n",
      "         0.0000e+00, 0.0000e+00, 0.0000e+00, 0.0000e+00, 0.0000e+00, 0.0000e+00,\n",
      "         0.0000e+00, 0.0000e+00, 0.0000e+00, 0.0000e+00, 0.0000e+00, 0.0000e+00,\n",
      "         0.0000e+00, 0.0000e+00, 0.0000e+00, 0.0000e+00, 0.0000e+00, 0.0000e+00,\n",
      "         0.0000e+00, 0.0000e+00, 0.0000e+00, 0.0000e+00, 0.0000e+00, 0.0000e+00,\n",
      "         0.0000e+00, 0.0000e+00, 0.0000e+00, 0.0000e+00, 0.0000e+00, 0.0000e+00,\n",
      "         0.0000e+00, 0.0000e+00, 0.0000e+00, 0.0000e+00, 0.0000e+00, 0.0000e+00,\n",
      "         0.0000e+00, 0.0000e+00, 0.0000e+00, 0.0000e+00, 0.0000e+00, 0.0000e+00,\n",
      "         0.0000e+00, 0.0000e+00, 0.0000e+00, 0.0000e+00, 0.0000e+00, 0.0000e+00,\n",
      "         0.0000e+00, 0.0000e+00, 0.0000e+00, 0.0000e+00, 0.0000e+00, 0.0000e+00,\n",
      "         0.0000e+00, 0.0000e+00, 0.0000e+00, 0.0000e+00, 0.0000e+00, 0.0000e+00,\n",
      "         0.0000e+00, 0.0000e+00, 0.0000e+00, 0.0000e+00, 0.0000e+00, 0.0000e+00,\n",
      "         0.0000e+00, 0.0000e+00, 0.0000e+00, 0.0000e+00, 0.0000e+00, 0.0000e+00,\n",
      "         0.0000e+00, 0.0000e+00, 0.0000e+00, 0.0000e+00, 0.0000e+00, 0.0000e+00,\n",
      "         0.0000e+00, 0.0000e+00, 0.0000e+00, 0.0000e+00, 0.0000e+00, 0.0000e+00,\n",
      "         0.0000e+00, 0.0000e+00, 0.0000e+00, 0.0000e+00, 0.0000e+00, 0.0000e+00,\n",
      "         0.0000e+00, 0.0000e+00, 0.0000e+00, 0.0000e+00, 0.0000e+00, 0.0000e+00,\n",
      "         0.0000e+00, 0.0000e+00, 0.0000e+00, 0.0000e+00, 0.0000e+00, 0.0000e+00,\n",
      "         0.0000e+00, 0.0000e+00, 0.0000e+00, 0.0000e+00, 0.0000e+00, 0.0000e+00,\n",
      "         0.0000e+00, 0.0000e+00, 0.0000e+00],\n",
      "        [6.7453e+02, 1.7848e+05, 2.8494e+05, 3.1460e+03, 3.8601e+02, 2.0636e+02,\n",
      "         2.2317e+02, 3.3236e+02, 5.0610e+02, 3.5625e+02, 2.9193e+02, 1.3652e+02,\n",
      "         3.4623e+02, 6.1516e+01, 1.0806e+02, 1.0263e+01, 3.9161e+00, 1.3653e+01,\n",
      "         4.3439e+00, 2.9364e+01, 1.3327e+00, 8.3105e-01, 1.8109e+00, 3.4043e-02,\n",
      "         6.0484e-01, 3.6930e+00, 2.6520e+01, 5.0662e+00, 3.1778e-01, 3.1238e-02,\n",
      "         3.3627e-01, 2.0484e+00, 1.3728e+01, 2.2913e+00, 1.0240e+00, 6.6878e+00,\n",
      "         8.8503e+00, 2.6045e+01, 1.0089e+01, 3.3188e-02, 8.6577e-01, 1.7235e+00,\n",
      "         2.6200e+00, 7.2930e-02, 6.2362e-01, 2.7692e+00, 1.0867e+01, 1.1816e+01,\n",
      "         3.2121e+00, 2.4090e+00, 3.6411e-01, 5.8528e-01, 6.9026e-01, 1.2671e-01,\n",
      "         4.8442e-01, 3.5299e-01, 2.2940e-02, 5.4062e-03, 1.3427e-03, 8.3613e-04,\n",
      "         5.7736e-04, 3.2824e-04, 2.3079e-04, 3.1174e-04, 2.7174e-04, 2.2740e-04,\n",
      "         8.0193e-05, 2.7235e-05, 2.0776e-05, 4.2952e-05, 1.1614e-04, 2.0946e-04,\n",
      "         1.8058e-04, 1.6036e-04, 5.2619e-05, 1.8958e-05, 4.6763e-06, 2.9095e-05,\n",
      "         4.3824e-05, 8.4848e-05, 9.3815e-05, 7.5555e-05, 2.5493e-05, 8.2940e-06,\n",
      "         6.0962e-06, 1.3259e-05, 1.2571e-05, 6.1717e-05, 2.8350e-05, 9.4136e-05,\n",
      "         3.8803e-05, 9.7611e-06, 4.4620e-07, 1.4131e-05, 1.0882e-05, 1.4468e-05,\n",
      "         1.9345e-05, 1.9090e-05, 9.2101e-06, 1.1078e-06, 4.6523e-06, 9.8793e-07,\n",
      "         5.4134e-06, 1.5240e-05, 6.0103e-06, 7.4294e-06, 1.1050e-05, 3.7778e-06,\n",
      "         9.4698e-07, 2.6267e-06, 2.5375e-06, 8.0372e-06, 1.1116e-06, 1.3995e-06,\n",
      "         5.0616e-06, 2.8785e-06, 4.7862e-06, 7.1125e-07, 3.2199e-06, 1.9045e-06,\n",
      "         3.6548e-06, 1.0575e-05, 5.3956e-06, 1.5288e-06, 2.0487e-06, 1.1313e-06,\n",
      "         2.1125e-06, 7.7104e-06, 1.0662e-06],\n",
      "        [0.0000e+00, 0.0000e+00, 0.0000e+00, 0.0000e+00, 0.0000e+00, 0.0000e+00,\n",
      "         0.0000e+00, 0.0000e+00, 0.0000e+00, 0.0000e+00, 0.0000e+00, 0.0000e+00,\n",
      "         0.0000e+00, 0.0000e+00, 0.0000e+00, 0.0000e+00, 0.0000e+00, 0.0000e+00,\n",
      "         0.0000e+00, 0.0000e+00, 0.0000e+00, 0.0000e+00, 0.0000e+00, 0.0000e+00,\n",
      "         0.0000e+00, 0.0000e+00, 0.0000e+00, 0.0000e+00, 0.0000e+00, 0.0000e+00,\n",
      "         0.0000e+00, 0.0000e+00, 0.0000e+00, 0.0000e+00, 0.0000e+00, 0.0000e+00,\n",
      "         0.0000e+00, 0.0000e+00, 0.0000e+00, 0.0000e+00, 0.0000e+00, 0.0000e+00,\n",
      "         0.0000e+00, 0.0000e+00, 0.0000e+00, 0.0000e+00, 0.0000e+00, 0.0000e+00,\n",
      "         0.0000e+00, 0.0000e+00, 0.0000e+00, 0.0000e+00, 0.0000e+00, 0.0000e+00,\n",
      "         0.0000e+00, 0.0000e+00, 0.0000e+00, 0.0000e+00, 0.0000e+00, 0.0000e+00,\n",
      "         0.0000e+00, 0.0000e+00, 0.0000e+00, 0.0000e+00, 0.0000e+00, 0.0000e+00,\n",
      "         0.0000e+00, 0.0000e+00, 0.0000e+00, 0.0000e+00, 0.0000e+00, 0.0000e+00,\n",
      "         0.0000e+00, 0.0000e+00, 0.0000e+00, 0.0000e+00, 0.0000e+00, 0.0000e+00,\n",
      "         0.0000e+00, 0.0000e+00, 0.0000e+00, 0.0000e+00, 0.0000e+00, 0.0000e+00,\n",
      "         0.0000e+00, 0.0000e+00, 0.0000e+00, 0.0000e+00, 0.0000e+00, 0.0000e+00,\n",
      "         0.0000e+00, 0.0000e+00, 0.0000e+00, 0.0000e+00, 0.0000e+00, 0.0000e+00,\n",
      "         0.0000e+00, 0.0000e+00, 0.0000e+00, 0.0000e+00, 0.0000e+00, 0.0000e+00,\n",
      "         0.0000e+00, 0.0000e+00, 0.0000e+00, 0.0000e+00, 0.0000e+00, 0.0000e+00,\n",
      "         0.0000e+00, 0.0000e+00, 0.0000e+00, 0.0000e+00, 0.0000e+00, 0.0000e+00,\n",
      "         0.0000e+00, 0.0000e+00, 0.0000e+00, 0.0000e+00, 0.0000e+00, 0.0000e+00,\n",
      "         0.0000e+00, 0.0000e+00, 0.0000e+00, 0.0000e+00, 0.0000e+00, 0.0000e+00,\n",
      "         0.0000e+00, 0.0000e+00, 0.0000e+00]])\n"
     ]
    }
   ],
   "source": [
    "# Instantiate the dataset class object\n",
    "dataset = ExampleDataset(spectrograms)\n",
    "\n",
    "# Create a random sample of 4 indecies from the dataset\n",
    "sample_size = 4\n",
    "sample_indices = np.random.choice(len(dataset), sample_size, replace=False)\n",
    "\n",
    "# Create an empty list to store batch items from the dataset\n",
    "batch = []\n",
    "\n",
    "# Use a for loop to get all batch items\n",
    "for i in sample_indices:\n",
    "    batch.append(dataset[i])\n",
    "    \n",
    "# Collate the batch items into a usable form\n",
    "batch = ExampleDataset.collate_fn(batch)\n",
    "print(batch)"
   ]
  },
  {
   "cell_type": "markdown",
   "metadata": {},
   "source": [
    "Note: The example provided does not take advantage of \"multithreading\". When a dataset class is combined with a data loader class, you are able to use multithreading and dramatically increase your data loading performance. The data loader class is covered in a future tutorial of this series."
   ]
  },
  {
   "cell_type": "code",
   "execution_count": null,
   "metadata": {},
   "outputs": [],
   "source": []
  }
 ],
 "metadata": {
  "kernelspec": {
   "display_name": "PyTorch 3.6",
   "language": "python",
   "name": "pytorch_p36"
  },
  "language_info": {
   "codemirror_mode": {
    "name": "ipython",
    "version": 3
   },
   "file_extension": ".py",
   "mimetype": "text/x-python",
   "name": "python",
   "nbconvert_exporter": "python",
   "pygments_lexer": "ipython3",
   "version": "3.6.10"
  }
 },
 "nbformat": 4,
 "nbformat_minor": 4
}
