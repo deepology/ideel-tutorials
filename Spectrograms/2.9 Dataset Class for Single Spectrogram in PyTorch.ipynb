{
 "cells": [
  {
   "cell_type": "markdown",
   "metadata": {},
   "source": [
    "Old Documentation:\n",
    "\n",
    "- [`import`](https://docs.python.org/3/reference/simple_stmts.html#the-import-statement)\n",
    "- [`len`](https://docs.python.org/3/library/functions.html#len)\n",
    "- [`numpy`](https://numpy.org/doc/1.19/user/whatisnumpy.html)\n",
    "- [`numpy.array`](https://numpy.org/doc/stable/reference/generated/numpy.array.html)\n",
    "- [numpy indexing](https://numpy.org/doc/stable/reference/arrays.indexing.html)\n",
    "- [`torch`](https://pytorch.org/docs/stable/index.html)\n",
    "- [`torch.Tensor`](https://pytorch.org/docs/stable/tensors.html#torch.Tensor)\n",
    "- [`torch.utils.data`](https://pytorch.org/docs/stable/data.html#torch.utils.data)\n",
    "- [`torch.utils.data.Dataset`](https://pytorch.org/docs/stable/data.html#torch.utils.data.Dataset)"
   ]
  },
  {
   "cell_type": "markdown",
   "metadata": {},
   "source": [
    "Import the numpy and pytorch (torch) modules."
   ]
  },
  {
   "cell_type": "code",
   "execution_count": 1,
   "metadata": {},
   "outputs": [],
   "source": [
    "import numpy as np\n",
    "import torch"
   ]
  },
  {
   "cell_type": "markdown",
   "metadata": {},
   "source": [
    "Create the sample dataset to be used in this notebook."
   ]
  },
  {
   "cell_type": "code",
   "execution_count": 2,
   "metadata": {},
   "outputs": [],
   "source": [
    "spectrogram = np.load(\"./samples/spectrograms/linear/spectrogram-1.npy\")"
   ]
  },
  {
   "cell_type": "markdown",
   "metadata": {},
   "source": [
    "**Step 1:** Code to be executed once at the beginning for initialization"
   ]
  },
  {
   "cell_type": "code",
   "execution_count": 3,
   "metadata": {},
   "outputs": [],
   "source": [
    "def init_(spectrogram):\n",
    "    \n",
    "    # Create a global variable of with the spectrogram to be accessed in other functions\n",
    "    global global_spectrogram\n",
    "    global_spectrogram = spectrogram\n",
    "    \n",
    "    # Create a global variable of the number of timesteps to be accessed in other functions\n",
    "    global global_length\n",
    "    global_length = len(spectrogram)\n",
    "    \n",
    "    return None"
   ]
  },
  {
   "cell_type": "markdown",
   "metadata": {},
   "source": [
    "**Step 2:** Code to return the number of items as length"
   ]
  },
  {
   "cell_type": "code",
   "execution_count": 4,
   "metadata": {},
   "outputs": [],
   "source": [
    "def len_():\n",
    "    \n",
    "    # Return the global variable of the number of timesteps in the spectrogram\n",
    "    return global_length"
   ]
  },
  {
   "cell_type": "markdown",
   "metadata": {},
   "source": [
    "**Step 3:** Code to return the x item at row i"
   ]
  },
  {
   "cell_type": "code",
   "execution_count": 5,
   "metadata": {},
   "outputs": [],
   "source": [
    "def getitem_(i):\n",
    "    \n",
    "    # Index the global variable for the spectrogram at timestep index i\n",
    "    frame = global_spectrogram[i]\n",
    "    \n",
    "    return frame"
   ]
  },
  {
   "cell_type": "markdown",
   "metadata": {},
   "source": [
    "**Step 4:** Code to return the collated list of items"
   ]
  },
  {
   "cell_type": "code",
   "execution_count": 6,
   "metadata": {},
   "outputs": [],
   "source": [
    "def collate_fn_(batch):\n",
    "    \n",
    "    # Convert input batch to a tensor type\n",
    "    batch = torch.as_tensor(batch)\n",
    "    \n",
    "    return batch"
   ]
  },
  {
   "cell_type": "markdown",
   "metadata": {},
   "source": [
    "Example of how to use init, len, getitem, and collate as functions. Here, we create a batch of size 4."
   ]
  },
  {
   "cell_type": "code",
   "execution_count": 7,
   "metadata": {},
   "outputs": [
    {
     "name": "stdout",
     "output_type": "stream",
     "text": [
      "tensor([[0.0000e+00, 0.0000e+00, 0.0000e+00, 0.0000e+00, 0.0000e+00, 0.0000e+00,\n",
      "         0.0000e+00, 0.0000e+00, 0.0000e+00, 0.0000e+00, 0.0000e+00, 0.0000e+00,\n",
      "         0.0000e+00, 0.0000e+00, 0.0000e+00, 0.0000e+00, 0.0000e+00, 0.0000e+00,\n",
      "         0.0000e+00, 0.0000e+00, 0.0000e+00, 0.0000e+00, 0.0000e+00, 0.0000e+00,\n",
      "         0.0000e+00, 0.0000e+00, 0.0000e+00, 0.0000e+00, 0.0000e+00, 0.0000e+00,\n",
      "         0.0000e+00, 0.0000e+00, 0.0000e+00, 0.0000e+00, 0.0000e+00, 0.0000e+00,\n",
      "         0.0000e+00, 0.0000e+00, 0.0000e+00, 0.0000e+00, 0.0000e+00, 0.0000e+00,\n",
      "         0.0000e+00, 0.0000e+00, 0.0000e+00, 0.0000e+00, 0.0000e+00, 0.0000e+00,\n",
      "         0.0000e+00, 0.0000e+00, 0.0000e+00, 0.0000e+00, 0.0000e+00, 0.0000e+00,\n",
      "         0.0000e+00, 0.0000e+00, 0.0000e+00, 0.0000e+00, 0.0000e+00, 0.0000e+00,\n",
      "         0.0000e+00, 0.0000e+00, 0.0000e+00, 0.0000e+00, 0.0000e+00, 0.0000e+00,\n",
      "         0.0000e+00, 0.0000e+00, 0.0000e+00, 0.0000e+00, 0.0000e+00, 0.0000e+00,\n",
      "         0.0000e+00, 0.0000e+00, 0.0000e+00, 0.0000e+00, 0.0000e+00, 0.0000e+00,\n",
      "         0.0000e+00, 0.0000e+00, 0.0000e+00, 0.0000e+00, 0.0000e+00, 0.0000e+00,\n",
      "         0.0000e+00, 0.0000e+00, 0.0000e+00, 0.0000e+00, 0.0000e+00, 0.0000e+00,\n",
      "         0.0000e+00, 0.0000e+00, 0.0000e+00, 0.0000e+00, 0.0000e+00, 0.0000e+00,\n",
      "         0.0000e+00, 0.0000e+00, 0.0000e+00, 0.0000e+00, 0.0000e+00, 0.0000e+00,\n",
      "         0.0000e+00, 0.0000e+00, 0.0000e+00, 0.0000e+00, 0.0000e+00, 0.0000e+00,\n",
      "         0.0000e+00, 0.0000e+00, 0.0000e+00, 0.0000e+00, 0.0000e+00, 0.0000e+00,\n",
      "         0.0000e+00, 0.0000e+00, 0.0000e+00, 0.0000e+00, 0.0000e+00, 0.0000e+00,\n",
      "         0.0000e+00, 0.0000e+00, 0.0000e+00, 0.0000e+00, 0.0000e+00, 0.0000e+00,\n",
      "         0.0000e+00, 0.0000e+00, 0.0000e+00],\n",
      "        [2.3112e+03, 2.3312e+04, 2.5033e+04, 3.6616e+04, 3.2587e+04, 2.4488e+04,\n",
      "         9.1310e+03, 4.4879e+03, 1.9977e+03, 5.3296e+02, 1.5767e+01, 6.4824e+01,\n",
      "         1.8399e+02, 1.4010e+02, 1.4768e+02, 1.0248e+02, 3.1588e+01, 1.7265e+01,\n",
      "         2.1122e+01, 3.6163e+00, 9.4256e-01, 5.8561e-01, 2.0625e+00, 3.8854e+00,\n",
      "         3.8616e+00, 1.5452e+00, 6.0515e-01, 6.4364e-01, 2.2654e-01, 1.7174e-01,\n",
      "         3.0569e-01, 5.8238e-01, 1.1376e+00, 4.0180e+00, 2.4497e+01, 6.1731e+01,\n",
      "         5.0403e+01, 8.7086e+00, 3.4182e+00, 5.7797e+00, 2.5248e+00, 5.5235e-01,\n",
      "         3.9914e-01, 1.8430e-01, 1.4360e-02, 7.0503e-02, 2.1855e-01, 2.3264e-01,\n",
      "         2.3827e-01, 9.9936e-01, 1.7484e+00, 1.4190e+00, 1.2586e+00, 3.6715e-01,\n",
      "         2.4972e-01, 1.8514e-01, 3.5108e-03, 6.2634e-04, 9.4989e-05, 1.0262e-04,\n",
      "         6.7678e-05, 4.0707e-05, 9.8640e-05, 1.1056e-04, 1.2681e-05, 3.3237e-05,\n",
      "         5.9912e-05, 8.0315e-05, 6.8714e-05, 1.3263e-04, 6.1865e-05, 6.5883e-05,\n",
      "         6.1912e-06, 1.9553e-05, 5.9349e-05, 3.6628e-05, 8.0530e-05, 2.7717e-05,\n",
      "         7.4085e-05, 1.3942e-05, 2.4078e-06, 1.1553e-05, 2.2815e-05, 3.0280e-05,\n",
      "         1.4369e-05, 1.2382e-05, 2.6286e-05, 6.3733e-06, 1.1721e-06, 5.5350e-07,\n",
      "         7.2432e-06, 1.0500e-05, 8.6113e-06, 2.5850e-05, 1.0322e-05, 5.8485e-07,\n",
      "         4.0782e-06, 2.7993e-06, 1.3350e-05, 1.5150e-05, 1.4188e-06, 1.2293e-05,\n",
      "         6.0753e-06, 4.3197e-06, 1.5977e-05, 2.3373e-06, 3.5271e-07, 1.0130e-05,\n",
      "         1.4779e-06, 1.3071e-06, 1.1248e-05, 1.1714e-05, 3.1182e-06, 1.3614e-06,\n",
      "         9.8340e-07, 8.7892e-06, 7.3002e-06, 8.6022e-07, 5.5043e-06, 1.0765e-05,\n",
      "         7.0131e-07, 1.5401e-06, 2.6547e-06, 1.9617e-05, 3.4731e-06, 1.1256e-06,\n",
      "         5.3276e-06, 4.9028e-07, 1.4267e-06],\n",
      "        [0.0000e+00, 0.0000e+00, 0.0000e+00, 0.0000e+00, 0.0000e+00, 0.0000e+00,\n",
      "         0.0000e+00, 0.0000e+00, 0.0000e+00, 0.0000e+00, 0.0000e+00, 0.0000e+00,\n",
      "         0.0000e+00, 0.0000e+00, 0.0000e+00, 0.0000e+00, 0.0000e+00, 0.0000e+00,\n",
      "         0.0000e+00, 0.0000e+00, 0.0000e+00, 0.0000e+00, 0.0000e+00, 0.0000e+00,\n",
      "         0.0000e+00, 0.0000e+00, 0.0000e+00, 0.0000e+00, 0.0000e+00, 0.0000e+00,\n",
      "         0.0000e+00, 0.0000e+00, 0.0000e+00, 0.0000e+00, 0.0000e+00, 0.0000e+00,\n",
      "         0.0000e+00, 0.0000e+00, 0.0000e+00, 0.0000e+00, 0.0000e+00, 0.0000e+00,\n",
      "         0.0000e+00, 0.0000e+00, 0.0000e+00, 0.0000e+00, 0.0000e+00, 0.0000e+00,\n",
      "         0.0000e+00, 0.0000e+00, 0.0000e+00, 0.0000e+00, 0.0000e+00, 0.0000e+00,\n",
      "         0.0000e+00, 0.0000e+00, 0.0000e+00, 0.0000e+00, 0.0000e+00, 0.0000e+00,\n",
      "         0.0000e+00, 0.0000e+00, 0.0000e+00, 0.0000e+00, 0.0000e+00, 0.0000e+00,\n",
      "         0.0000e+00, 0.0000e+00, 0.0000e+00, 0.0000e+00, 0.0000e+00, 0.0000e+00,\n",
      "         0.0000e+00, 0.0000e+00, 0.0000e+00, 0.0000e+00, 0.0000e+00, 0.0000e+00,\n",
      "         0.0000e+00, 0.0000e+00, 0.0000e+00, 0.0000e+00, 0.0000e+00, 0.0000e+00,\n",
      "         0.0000e+00, 0.0000e+00, 0.0000e+00, 0.0000e+00, 0.0000e+00, 0.0000e+00,\n",
      "         0.0000e+00, 0.0000e+00, 0.0000e+00, 0.0000e+00, 0.0000e+00, 0.0000e+00,\n",
      "         0.0000e+00, 0.0000e+00, 0.0000e+00, 0.0000e+00, 0.0000e+00, 0.0000e+00,\n",
      "         0.0000e+00, 0.0000e+00, 0.0000e+00, 0.0000e+00, 0.0000e+00, 0.0000e+00,\n",
      "         0.0000e+00, 0.0000e+00, 0.0000e+00, 0.0000e+00, 0.0000e+00, 0.0000e+00,\n",
      "         0.0000e+00, 0.0000e+00, 0.0000e+00, 0.0000e+00, 0.0000e+00, 0.0000e+00,\n",
      "         0.0000e+00, 0.0000e+00, 0.0000e+00, 0.0000e+00, 0.0000e+00, 0.0000e+00,\n",
      "         0.0000e+00, 0.0000e+00, 0.0000e+00],\n",
      "        [0.0000e+00, 0.0000e+00, 0.0000e+00, 0.0000e+00, 0.0000e+00, 0.0000e+00,\n",
      "         0.0000e+00, 0.0000e+00, 0.0000e+00, 0.0000e+00, 0.0000e+00, 0.0000e+00,\n",
      "         0.0000e+00, 0.0000e+00, 0.0000e+00, 0.0000e+00, 0.0000e+00, 0.0000e+00,\n",
      "         0.0000e+00, 0.0000e+00, 0.0000e+00, 0.0000e+00, 0.0000e+00, 0.0000e+00,\n",
      "         0.0000e+00, 0.0000e+00, 0.0000e+00, 0.0000e+00, 0.0000e+00, 0.0000e+00,\n",
      "         0.0000e+00, 0.0000e+00, 0.0000e+00, 0.0000e+00, 0.0000e+00, 0.0000e+00,\n",
      "         0.0000e+00, 0.0000e+00, 0.0000e+00, 0.0000e+00, 0.0000e+00, 0.0000e+00,\n",
      "         0.0000e+00, 0.0000e+00, 0.0000e+00, 0.0000e+00, 0.0000e+00, 0.0000e+00,\n",
      "         0.0000e+00, 0.0000e+00, 0.0000e+00, 0.0000e+00, 0.0000e+00, 0.0000e+00,\n",
      "         0.0000e+00, 0.0000e+00, 0.0000e+00, 0.0000e+00, 0.0000e+00, 0.0000e+00,\n",
      "         0.0000e+00, 0.0000e+00, 0.0000e+00, 0.0000e+00, 0.0000e+00, 0.0000e+00,\n",
      "         0.0000e+00, 0.0000e+00, 0.0000e+00, 0.0000e+00, 0.0000e+00, 0.0000e+00,\n",
      "         0.0000e+00, 0.0000e+00, 0.0000e+00, 0.0000e+00, 0.0000e+00, 0.0000e+00,\n",
      "         0.0000e+00, 0.0000e+00, 0.0000e+00, 0.0000e+00, 0.0000e+00, 0.0000e+00,\n",
      "         0.0000e+00, 0.0000e+00, 0.0000e+00, 0.0000e+00, 0.0000e+00, 0.0000e+00,\n",
      "         0.0000e+00, 0.0000e+00, 0.0000e+00, 0.0000e+00, 0.0000e+00, 0.0000e+00,\n",
      "         0.0000e+00, 0.0000e+00, 0.0000e+00, 0.0000e+00, 0.0000e+00, 0.0000e+00,\n",
      "         0.0000e+00, 0.0000e+00, 0.0000e+00, 0.0000e+00, 0.0000e+00, 0.0000e+00,\n",
      "         0.0000e+00, 0.0000e+00, 0.0000e+00, 0.0000e+00, 0.0000e+00, 0.0000e+00,\n",
      "         0.0000e+00, 0.0000e+00, 0.0000e+00, 0.0000e+00, 0.0000e+00, 0.0000e+00,\n",
      "         0.0000e+00, 0.0000e+00, 0.0000e+00, 0.0000e+00, 0.0000e+00, 0.0000e+00,\n",
      "         0.0000e+00, 0.0000e+00, 0.0000e+00]])\n"
     ]
    }
   ],
   "source": [
    "# Initialize the spectrogram dataset\n",
    "init_(spectrogram)\n",
    "\n",
    "# Get the number of timesteps in the spectrogram dataset\n",
    "dataset_size = len_()\n",
    "\n",
    "# Create a random sample of 4 timesteps from the spectrogram dataset\n",
    "sample_size = 4\n",
    "sample_indices = np.random.choice(dataset_size, sample_size, replace=False)\n",
    "\n",
    "# Create an empty list to store batch frame items from the spectrogram\n",
    "batch = []\n",
    "\n",
    "# Use a for loop to get all batch frame items\n",
    "for i in sample_indices:\n",
    "    batch.append(getitem_(i))\n",
    "    \n",
    "# Collate the list of batch items into a usable form\n",
    "batch = collate_fn_(batch)\n",
    "print(batch)"
   ]
  },
  {
   "cell_type": "markdown",
   "metadata": {},
   "source": [
    "Example of how to create a dataset class using init, len, getitem and collate."
   ]
  },
  {
   "cell_type": "code",
   "execution_count": 8,
   "metadata": {},
   "outputs": [],
   "source": [
    "class ExampleDataset(torch.utils.data.Dataset):\n",
    "    \n",
    "    def __init__(self, spectrogram):\n",
    "        \n",
    "        ### Code to be executed once at the beginning for initialization\n",
    "        self.spectrogram = spectrogram\n",
    "        self.length = len(spectrogram)\n",
    "        \n",
    "    def __len__(self):\n",
    "        \n",
    "        ### Return the number of items as length\n",
    "        return self.length\n",
    "    \n",
    "    def __getitem__(self, i):\n",
    "        \n",
    "        ### Return one item at index i\n",
    "        frame = self.spectrogram[i]\n",
    "        \n",
    "        return frame\n",
    "    \n",
    "    def collate_fn(batch):\n",
    "        \n",
    "        ### Specify how to collate list of items and what to return\n",
    "        batch = torch.as_tensor(batch)\n",
    "\n",
    "        return batch\n",
    "        \n",
    "    \n",
    "dataset = ExampleDataset(spectrogram)"
   ]
  },
  {
   "cell_type": "markdown",
   "metadata": {},
   "source": [
    "Example of how to use the dataset class and create a batch of size 4."
   ]
  },
  {
   "cell_type": "code",
   "execution_count": 9,
   "metadata": {},
   "outputs": [
    {
     "name": "stdout",
     "output_type": "stream",
     "text": [
      "tensor([[0.0000e+00, 0.0000e+00, 0.0000e+00, 0.0000e+00, 0.0000e+00, 0.0000e+00,\n",
      "         0.0000e+00, 0.0000e+00, 0.0000e+00, 0.0000e+00, 0.0000e+00, 0.0000e+00,\n",
      "         0.0000e+00, 0.0000e+00, 0.0000e+00, 0.0000e+00, 0.0000e+00, 0.0000e+00,\n",
      "         0.0000e+00, 0.0000e+00, 0.0000e+00, 0.0000e+00, 0.0000e+00, 0.0000e+00,\n",
      "         0.0000e+00, 0.0000e+00, 0.0000e+00, 0.0000e+00, 0.0000e+00, 0.0000e+00,\n",
      "         0.0000e+00, 0.0000e+00, 0.0000e+00, 0.0000e+00, 0.0000e+00, 0.0000e+00,\n",
      "         0.0000e+00, 0.0000e+00, 0.0000e+00, 0.0000e+00, 0.0000e+00, 0.0000e+00,\n",
      "         0.0000e+00, 0.0000e+00, 0.0000e+00, 0.0000e+00, 0.0000e+00, 0.0000e+00,\n",
      "         0.0000e+00, 0.0000e+00, 0.0000e+00, 0.0000e+00, 0.0000e+00, 0.0000e+00,\n",
      "         0.0000e+00, 0.0000e+00, 0.0000e+00, 0.0000e+00, 0.0000e+00, 0.0000e+00,\n",
      "         0.0000e+00, 0.0000e+00, 0.0000e+00, 0.0000e+00, 0.0000e+00, 0.0000e+00,\n",
      "         0.0000e+00, 0.0000e+00, 0.0000e+00, 0.0000e+00, 0.0000e+00, 0.0000e+00,\n",
      "         0.0000e+00, 0.0000e+00, 0.0000e+00, 0.0000e+00, 0.0000e+00, 0.0000e+00,\n",
      "         0.0000e+00, 0.0000e+00, 0.0000e+00, 0.0000e+00, 0.0000e+00, 0.0000e+00,\n",
      "         0.0000e+00, 0.0000e+00, 0.0000e+00, 0.0000e+00, 0.0000e+00, 0.0000e+00,\n",
      "         0.0000e+00, 0.0000e+00, 0.0000e+00, 0.0000e+00, 0.0000e+00, 0.0000e+00,\n",
      "         0.0000e+00, 0.0000e+00, 0.0000e+00, 0.0000e+00, 0.0000e+00, 0.0000e+00,\n",
      "         0.0000e+00, 0.0000e+00, 0.0000e+00, 0.0000e+00, 0.0000e+00, 0.0000e+00,\n",
      "         0.0000e+00, 0.0000e+00, 0.0000e+00, 0.0000e+00, 0.0000e+00, 0.0000e+00,\n",
      "         0.0000e+00, 0.0000e+00, 0.0000e+00, 0.0000e+00, 0.0000e+00, 0.0000e+00,\n",
      "         0.0000e+00, 0.0000e+00, 0.0000e+00, 0.0000e+00, 0.0000e+00, 0.0000e+00,\n",
      "         0.0000e+00, 0.0000e+00, 0.0000e+00],\n",
      "        [9.2916e+02, 4.8178e+04, 6.9816e+04, 2.4736e+04, 1.7297e+03, 1.6339e+03,\n",
      "         1.3047e+03, 7.3067e+01, 2.2298e+03, 1.0747e+04, 6.4737e+03, 6.3671e+03,\n",
      "         3.6089e+03, 1.8133e+02, 5.9428e+01, 1.5351e+00, 4.3005e+00, 1.7392e+01,\n",
      "         1.3498e+01, 5.0658e+01, 3.7266e+01, 3.7875e+00, 6.4372e-01, 4.5942e+00,\n",
      "         1.5117e+00, 2.9656e+01, 5.6961e+01, 4.7178e+00, 3.5278e-01, 1.8202e-01,\n",
      "         4.8667e-02, 7.4120e-02, 2.0560e-01, 6.1299e-01, 5.1757e-01, 4.9067e-01,\n",
      "         5.5806e-01, 1.2596e+00, 9.0363e-02, 4.1522e+00, 1.7525e+00, 2.1352e+00,\n",
      "         2.9785e+00, 2.0135e+00, 6.9140e-01, 8.3636e-01, 2.0495e+00, 3.9344e-01,\n",
      "         1.4116e+00, 2.0542e+00, 4.8764e+00, 7.9491e+00, 2.6166e+00, 6.2658e-01,\n",
      "         1.4566e-01, 1.0988e+00, 1.1014e-01, 9.7825e-03, 8.8737e-03, 9.5793e-03,\n",
      "         1.1690e-03, 2.4626e-04, 5.0961e-05, 1.6388e-05, 5.8012e-05, 4.9901e-05,\n",
      "         1.3510e-05, 1.4583e-05, 1.0679e-05, 1.4899e-05, 1.0351e-05, 1.2251e-05,\n",
      "         4.2529e-06, 1.9658e-06, 7.1323e-06, 3.7764e-06, 3.4710e-07, 1.1963e-05,\n",
      "         5.6545e-06, 6.6500e-07, 5.5376e-06, 3.0647e-05, 6.8730e-07, 5.2444e-06,\n",
      "         4.3398e-06, 4.8576e-06, 6.3242e-06, 5.9056e-06, 3.8667e-06, 4.3470e-06,\n",
      "         5.5295e-07, 7.5866e-06, 4.7390e-06, 1.7190e-05, 6.0429e-06, 1.9407e-06,\n",
      "         7.8531e-06, 2.6382e-07, 1.6541e-06, 1.0556e-05, 3.1954e-06, 6.0660e-06,\n",
      "         1.2322e-06, 1.4640e-05, 2.1853e-06, 1.9411e-06, 1.3995e-06, 4.7542e-06,\n",
      "         7.5391e-07, 8.5772e-07, 3.7868e-06, 1.6412e-06, 1.2654e-07, 3.4257e-06,\n",
      "         5.0171e-07, 5.8425e-06, 1.4334e-06, 5.6024e-07, 5.2502e-07, 1.5182e-06,\n",
      "         4.6697e-06, 6.4171e-07, 1.2766e-06, 5.1702e-06, 2.8979e-06, 1.3535e-06,\n",
      "         4.8814e-06, 1.1498e-05, 3.9608e-06],\n",
      "        [5.1536e+01, 2.6517e+04, 1.5981e+03, 1.0389e+03, 1.2016e+02, 9.4320e+01,\n",
      "         1.6573e+01, 1.8926e+02, 1.4921e+01, 1.3910e+00, 8.2367e+01, 1.6189e+01,\n",
      "         1.1123e+01, 6.2309e+00, 1.0293e+01, 5.8041e+00, 3.2692e+00, 1.3697e-01,\n",
      "         9.9777e-02, 7.6926e-02, 8.0003e-01, 1.4139e+00, 2.0590e-01, 2.9786e-02,\n",
      "         4.0744e-02, 3.7624e-01, 1.6789e+00, 5.6751e-01, 1.4635e-01, 1.3006e-01,\n",
      "         1.4005e-01, 2.0539e-01, 1.2366e-01, 9.8640e-02, 1.6451e-01, 2.2787e-02,\n",
      "         7.8570e-02, 1.4076e-01, 1.1812e-01, 2.8035e-01, 2.5194e-01, 8.6935e-02,\n",
      "         4.0019e-02, 3.4056e-01, 1.8761e-01, 9.6668e-01, 2.7726e-01, 7.1878e-02,\n",
      "         9.9502e-02, 2.4883e-01, 3.2410e-01, 1.2405e-01, 3.0210e-01, 6.5832e-03,\n",
      "         3.8486e-02, 4.6869e-02, 1.1193e-02, 1.0075e-02, 6.7278e-03, 3.2170e-03,\n",
      "         1.4530e-03, 8.0579e-04, 5.8713e-04, 2.7823e-04, 2.7805e-04, 5.5565e-05,\n",
      "         1.1936e-05, 3.6547e-06, 1.6682e-05, 1.0177e-05, 7.5241e-05, 1.9037e-05,\n",
      "         3.3694e-05, 2.6669e-05, 2.6657e-05, 3.7219e-06, 3.9799e-06, 4.5726e-06,\n",
      "         1.4115e-05, 8.4725e-06, 3.4543e-05, 7.3880e-06, 3.7695e-06, 4.5579e-06,\n",
      "         6.1860e-07, 1.3203e-05, 3.6715e-07, 3.0473e-06, 6.1489e-06, 8.9919e-06,\n",
      "         3.6970e-06, 5.2009e-07, 1.3229e-07, 7.0123e-07, 3.0129e-07, 9.8580e-07,\n",
      "         1.3953e-05, 3.5969e-06, 1.0566e-05, 1.0076e-05, 5.6631e-06, 8.5068e-06,\n",
      "         5.7343e-06, 2.5593e-06, 6.5318e-06, 9.3010e-06, 1.9796e-06, 6.3515e-06,\n",
      "         2.1248e-06, 9.9125e-08, 6.9119e-08, 1.3392e-06, 1.7071e-06, 8.5702e-07,\n",
      "         1.0732e-06, 9.8244e-07, 6.0944e-08, 7.5544e-06, 1.0575e-05, 7.2511e-07,\n",
      "         5.1909e-07, 1.6408e-06, 2.2227e-06, 1.4132e-06, 2.7446e-07, 4.4439e-06,\n",
      "         3.8569e-07, 2.8476e-06, 2.1321e-06],\n",
      "        [0.0000e+00, 0.0000e+00, 0.0000e+00, 0.0000e+00, 0.0000e+00, 0.0000e+00,\n",
      "         0.0000e+00, 0.0000e+00, 0.0000e+00, 0.0000e+00, 0.0000e+00, 0.0000e+00,\n",
      "         0.0000e+00, 0.0000e+00, 0.0000e+00, 0.0000e+00, 0.0000e+00, 0.0000e+00,\n",
      "         0.0000e+00, 0.0000e+00, 0.0000e+00, 0.0000e+00, 0.0000e+00, 0.0000e+00,\n",
      "         0.0000e+00, 0.0000e+00, 0.0000e+00, 0.0000e+00, 0.0000e+00, 0.0000e+00,\n",
      "         0.0000e+00, 0.0000e+00, 0.0000e+00, 0.0000e+00, 0.0000e+00, 0.0000e+00,\n",
      "         0.0000e+00, 0.0000e+00, 0.0000e+00, 0.0000e+00, 0.0000e+00, 0.0000e+00,\n",
      "         0.0000e+00, 0.0000e+00, 0.0000e+00, 0.0000e+00, 0.0000e+00, 0.0000e+00,\n",
      "         0.0000e+00, 0.0000e+00, 0.0000e+00, 0.0000e+00, 0.0000e+00, 0.0000e+00,\n",
      "         0.0000e+00, 0.0000e+00, 0.0000e+00, 0.0000e+00, 0.0000e+00, 0.0000e+00,\n",
      "         0.0000e+00, 0.0000e+00, 0.0000e+00, 0.0000e+00, 0.0000e+00, 0.0000e+00,\n",
      "         0.0000e+00, 0.0000e+00, 0.0000e+00, 0.0000e+00, 0.0000e+00, 0.0000e+00,\n",
      "         0.0000e+00, 0.0000e+00, 0.0000e+00, 0.0000e+00, 0.0000e+00, 0.0000e+00,\n",
      "         0.0000e+00, 0.0000e+00, 0.0000e+00, 0.0000e+00, 0.0000e+00, 0.0000e+00,\n",
      "         0.0000e+00, 0.0000e+00, 0.0000e+00, 0.0000e+00, 0.0000e+00, 0.0000e+00,\n",
      "         0.0000e+00, 0.0000e+00, 0.0000e+00, 0.0000e+00, 0.0000e+00, 0.0000e+00,\n",
      "         0.0000e+00, 0.0000e+00, 0.0000e+00, 0.0000e+00, 0.0000e+00, 0.0000e+00,\n",
      "         0.0000e+00, 0.0000e+00, 0.0000e+00, 0.0000e+00, 0.0000e+00, 0.0000e+00,\n",
      "         0.0000e+00, 0.0000e+00, 0.0000e+00, 0.0000e+00, 0.0000e+00, 0.0000e+00,\n",
      "         0.0000e+00, 0.0000e+00, 0.0000e+00, 0.0000e+00, 0.0000e+00, 0.0000e+00,\n",
      "         0.0000e+00, 0.0000e+00, 0.0000e+00, 0.0000e+00, 0.0000e+00, 0.0000e+00,\n",
      "         0.0000e+00, 0.0000e+00, 0.0000e+00]])\n"
     ]
    }
   ],
   "source": [
    "# Instantiate the dataset class object\n",
    "dataset = ExampleDataset(spectrogram)\n",
    "\n",
    "# Create a random sample of 4 indecies from the dataset\n",
    "sample_size = 4\n",
    "sample_indices = np.random.choice(len(dataset), sample_size, replace=False)\n",
    "\n",
    "# Create an empty list to store batch items from the dataset\n",
    "batch = []\n",
    "\n",
    "# Use a for loop to get all batch items\n",
    "for i in sample_indices:\n",
    "    batch.append(dataset[i])\n",
    "    \n",
    "# Collate the batch items into a usable form\n",
    "batch = ExampleDataset.collate_fn(batch)\n",
    "print(batch)"
   ]
  },
  {
   "cell_type": "markdown",
   "metadata": {},
   "source": [
    "Note: The example provided does not take advantage of \"multithreading\". When a dataset class is combined with a data loader class, you are able to use multithreading and dramatically increase your data loading performance. The data loader class is covered in a future tutorial of this series."
   ]
  },
  {
   "cell_type": "code",
   "execution_count": null,
   "metadata": {},
   "outputs": [],
   "source": []
  }
 ],
 "metadata": {
  "kernelspec": {
   "display_name": "PyTorch 3.6",
   "language": "python",
   "name": "pytorch_p36"
  },
  "language_info": {
   "codemirror_mode": {
    "name": "ipython",
    "version": 3
   },
   "file_extension": ".py",
   "mimetype": "text/x-python",
   "name": "python",
   "nbconvert_exporter": "python",
   "pygments_lexer": "ipython3",
   "version": "3.6.10"
  }
 },
 "nbformat": 4,
 "nbformat_minor": 4
}
