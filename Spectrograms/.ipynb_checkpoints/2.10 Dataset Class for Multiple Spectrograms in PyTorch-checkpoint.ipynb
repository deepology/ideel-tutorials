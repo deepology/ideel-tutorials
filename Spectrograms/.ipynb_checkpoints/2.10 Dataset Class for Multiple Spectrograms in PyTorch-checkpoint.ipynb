{
 "cells": [
  {
   "cell_type": "markdown",
   "metadata": {},
   "source": [
    "Old Documentation:\n",
    "\n",
    "- [`import`](https://docs.python.org/3/reference/simple_stmts.html#the-import-statement)\n",
    "- [`len`](https://docs.python.org/3/library/functions.html#len)\n",
    "- [`numpy`](https://numpy.org/doc/1.19/user/whatisnumpy.html)\n",
    "- [`numpy.array`](https://numpy.org/doc/stable/reference/generated/numpy.array.html)\n",
    "- [numpy indexing](https://numpy.org/doc/stable/reference/arrays.indexing.html)\n",
    "- [`torch`](https://pytorch.org/docs/stable/index.html)\n",
    "- [`torch.Tensor`](https://pytorch.org/docs/stable/tensors.html#torch.Tensor)\n",
    "- [`torch.utils.data`](https://pytorch.org/docs/stable/data.html#torch.utils.data)\n",
    "- [`torch.utils.data.Dataset`](https://pytorch.org/docs/stable/data.html#torch.utils.data.Dataset)"
   ]
  },
  {
   "cell_type": "markdown",
   "metadata": {},
   "source": [
    "Import the numpy and pytorch (torch) modules."
   ]
  },
  {
   "cell_type": "code",
   "execution_count": 1,
   "metadata": {},
   "outputs": [],
   "source": [
    "import numpy as np\n",
    "import torch"
   ]
  },
  {
   "cell_type": "markdown",
   "metadata": {},
   "source": [
    "Create the sample dataset to be used in this notebook."
   ]
  },
  {
   "cell_type": "code",
   "execution_count": 2,
   "metadata": {},
   "outputs": [],
   "source": [
    "spectrograms  = np.load(\"./samples/spectrograms/linear/all_spectrograms.npy\", allow_pickle=True)"
   ]
  },
  {
   "cell_type": "markdown",
   "metadata": {},
   "source": [
    "**Step 1:** Code to be executed once at the beginning for initialization"
   ]
  },
  {
   "cell_type": "code",
   "execution_count": 3,
   "metadata": {},
   "outputs": [],
   "source": [
    "def init_(spectrograms):\n",
    "    \n",
    "    # Create a global variable of with the spectrogram to be accessed in other functions\n",
    "    global global_spectrograms\n",
    "    global_spectrograms = spectrograms\n",
    "    \n",
    "    # Create a global variable to store the list of all (recording, timestep) index pairs.\n",
    "    global global_index_map\n",
    "    global_index_map = []\n",
    "    \n",
    "    # Use two for loops to create a list of all (recording, timestep) index pairs.\n",
    "    for i, spectrogram in enumerate(spectrograms):\n",
    "        for j, frame in enumerate(spectrogram):\n",
    "            index_pair = (i, j)\n",
    "            global_index_map.append(index_pair)\n",
    "    \n",
    "    # Create a global variable of the number of timesteps to be accessed in other functions\n",
    "    global global_length\n",
    "    global_length = len(global_index_map)\n",
    "    \n",
    "    return None"
   ]
  },
  {
   "cell_type": "markdown",
   "metadata": {},
   "source": [
    "**Step 2:** Code to return the number of items as length"
   ]
  },
  {
   "cell_type": "code",
   "execution_count": 4,
   "metadata": {},
   "outputs": [],
   "source": [
    "def len_():\n",
    "    \n",
    "    # Return the global variable of the number of timesteps in the spectrogram\n",
    "    return global_length"
   ]
  },
  {
   "cell_type": "markdown",
   "metadata": {},
   "source": [
    "**Step 3:** Code to return the x item at sample i, row j"
   ]
  },
  {
   "cell_type": "code",
   "execution_count": 5,
   "metadata": {},
   "outputs": [],
   "source": [
    "def getitem_(index):\n",
    "    \n",
    "    # Get the recording index i and timestep index j that corresponds to the pair index\n",
    "    i, j = global_index_map[index]\n",
    "    \n",
    "    # Index the global spectrogram variable using the recording index i and timestep index j\n",
    "    frame = global_spectrograms[i][j, :]\n",
    "    \n",
    "    return frame"
   ]
  },
  {
   "cell_type": "markdown",
   "metadata": {},
   "source": [
    "**Step 4:** Code to return the collated list of items"
   ]
  },
  {
   "cell_type": "code",
   "execution_count": 6,
   "metadata": {},
   "outputs": [],
   "source": [
    "def collate_fn_(batch):\n",
    "    \n",
    "    # Index the global variable X at input index i    \n",
    "    batch = torch.as_tensor(batch)\n",
    "    \n",
    "    return batch"
   ]
  },
  {
   "cell_type": "markdown",
   "metadata": {},
   "source": [
    "Example of how to use init, len, getitem, and collate as functions. Here, we create a batch of size 4."
   ]
  },
  {
   "cell_type": "code",
   "execution_count": 7,
   "metadata": {},
   "outputs": [
    {
     "name": "stdout",
     "output_type": "stream",
     "text": [
      "tensor([[4.4191e+01, 3.5118e+04, 4.4044e+03, 9.2870e+03, 1.5616e+04, 1.0287e+04,\n",
      "         1.4174e+03, 5.0607e+01, 1.1144e+02, 3.2805e+00, 2.5750e+01, 4.5318e+01,\n",
      "         4.6411e+01, 3.2684e+01, 1.2237e+01, 2.3336e+00, 1.6393e+00, 1.2512e-01,\n",
      "         7.2831e-02, 6.1419e-01, 2.9565e+00, 7.8081e-01, 2.0018e-01, 9.6141e-02,\n",
      "         8.3721e-02, 3.2468e-01, 5.0710e-02, 2.3230e-02, 1.8330e-02, 7.5365e-03,\n",
      "         5.0574e-03, 8.1667e-01, 1.4213e+01, 2.4281e+01, 1.3704e+01, 2.6273e+00,\n",
      "         6.9715e-02, 1.0229e-01, 4.3050e-01, 4.6943e-01, 1.8549e-01, 7.6213e-02,\n",
      "         5.0961e-03, 2.4797e-03, 3.0911e-03, 4.9237e-03, 1.1782e-01, 2.0737e-01,\n",
      "         2.6196e-01, 2.0209e-01, 1.9637e-02, 2.2573e-01, 1.2171e-01, 1.3073e-01,\n",
      "         7.2328e-03, 1.2993e-04, 2.8189e-04, 1.5909e-03, 2.8205e-04, 2.2215e-05,\n",
      "         3.4697e-06, 1.4747e-05, 1.0861e-05, 5.4165e-06, 2.5665e-05, 1.6192e-05,\n",
      "         1.3001e-05, 4.1134e-06, 4.7362e-06, 3.1777e-06, 7.4716e-06, 4.0946e-06,\n",
      "         5.4841e-06, 3.9782e-05, 9.5901e-06, 3.6179e-06, 1.6078e-05, 1.6231e-05,\n",
      "         2.4865e-06, 2.2805e-05, 1.4065e-05, 1.2187e-06, 5.2315e-06, 8.0075e-06,\n",
      "         2.4449e-06, 2.5991e-06, 8.6443e-06, 1.2494e-07, 5.9364e-06, 4.6704e-06,\n",
      "         1.8281e-06, 8.8536e-06, 1.0338e-07, 4.4892e-06, 1.4131e-06, 6.8601e-06,\n",
      "         2.3697e-06, 4.3074e-06, 7.6861e-07, 1.0888e-05, 1.0416e-05, 2.0511e-06,\n",
      "         9.9777e-07, 1.7902e-05, 3.5425e-06, 2.0232e-06, 2.2749e-07, 3.6037e-06,\n",
      "         5.0417e-06, 2.9509e-06, 1.0279e-06, 1.0177e-07, 1.2348e-05, 6.3403e-06,\n",
      "         2.1072e-06, 1.4171e-06, 5.6078e-07, 1.8848e-05, 4.6147e-06, 8.4528e-07,\n",
      "         7.2696e-07, 7.2858e-06, 7.5082e-06, 4.5936e-06, 1.5103e-06, 8.1270e-06,\n",
      "         1.2596e-07, 2.2994e-06, 4.8180e-08],\n",
      "        [0.0000e+00, 0.0000e+00, 0.0000e+00, 0.0000e+00, 0.0000e+00, 0.0000e+00,\n",
      "         0.0000e+00, 0.0000e+00, 0.0000e+00, 0.0000e+00, 0.0000e+00, 0.0000e+00,\n",
      "         0.0000e+00, 0.0000e+00, 0.0000e+00, 0.0000e+00, 0.0000e+00, 0.0000e+00,\n",
      "         0.0000e+00, 0.0000e+00, 0.0000e+00, 0.0000e+00, 0.0000e+00, 0.0000e+00,\n",
      "         0.0000e+00, 0.0000e+00, 0.0000e+00, 0.0000e+00, 0.0000e+00, 0.0000e+00,\n",
      "         0.0000e+00, 0.0000e+00, 0.0000e+00, 0.0000e+00, 0.0000e+00, 0.0000e+00,\n",
      "         0.0000e+00, 0.0000e+00, 0.0000e+00, 0.0000e+00, 0.0000e+00, 0.0000e+00,\n",
      "         0.0000e+00, 0.0000e+00, 0.0000e+00, 0.0000e+00, 0.0000e+00, 0.0000e+00,\n",
      "         0.0000e+00, 0.0000e+00, 0.0000e+00, 0.0000e+00, 0.0000e+00, 0.0000e+00,\n",
      "         0.0000e+00, 0.0000e+00, 0.0000e+00, 0.0000e+00, 0.0000e+00, 0.0000e+00,\n",
      "         0.0000e+00, 0.0000e+00, 0.0000e+00, 0.0000e+00, 0.0000e+00, 0.0000e+00,\n",
      "         0.0000e+00, 0.0000e+00, 0.0000e+00, 0.0000e+00, 0.0000e+00, 0.0000e+00,\n",
      "         0.0000e+00, 0.0000e+00, 0.0000e+00, 0.0000e+00, 0.0000e+00, 0.0000e+00,\n",
      "         0.0000e+00, 0.0000e+00, 0.0000e+00, 0.0000e+00, 0.0000e+00, 0.0000e+00,\n",
      "         0.0000e+00, 0.0000e+00, 0.0000e+00, 0.0000e+00, 0.0000e+00, 0.0000e+00,\n",
      "         0.0000e+00, 0.0000e+00, 0.0000e+00, 0.0000e+00, 0.0000e+00, 0.0000e+00,\n",
      "         0.0000e+00, 0.0000e+00, 0.0000e+00, 0.0000e+00, 0.0000e+00, 0.0000e+00,\n",
      "         0.0000e+00, 0.0000e+00, 0.0000e+00, 0.0000e+00, 0.0000e+00, 0.0000e+00,\n",
      "         0.0000e+00, 0.0000e+00, 0.0000e+00, 0.0000e+00, 0.0000e+00, 0.0000e+00,\n",
      "         0.0000e+00, 0.0000e+00, 0.0000e+00, 0.0000e+00, 0.0000e+00, 0.0000e+00,\n",
      "         0.0000e+00, 0.0000e+00, 0.0000e+00, 0.0000e+00, 0.0000e+00, 0.0000e+00,\n",
      "         0.0000e+00, 0.0000e+00, 0.0000e+00],\n",
      "        [8.2075e+02, 4.0337e+04, 4.6516e+03, 1.7853e+03, 5.5781e+02, 2.6089e+02,\n",
      "         1.2371e+02, 5.0605e+01, 2.1105e+01, 8.3769e+00, 3.3020e+00, 7.0910e-01,\n",
      "         8.0085e-01, 1.7376e-01, 3.3813e-01, 5.2794e-01, 5.8280e-01, 1.7053e+00,\n",
      "         3.4873e+00, 8.4907e+00, 9.1142e+00, 2.4226e+00, 1.7166e+00, 7.1467e-01,\n",
      "         3.0736e-01, 1.0635e-01, 4.0564e-02, 2.0269e-02, 9.0769e-03, 1.6716e-02,\n",
      "         9.6839e-03, 6.9666e-03, 6.3457e-04, 7.9054e-02, 6.7550e-01, 4.8896e-01,\n",
      "         1.2443e-01, 2.5255e+00, 3.1492e-01, 1.0101e+00, 3.7864e-02, 1.2047e-01,\n",
      "         2.2780e-01, 5.1557e-01, 3.1182e-01, 2.7952e-01, 2.9789e-02, 2.5736e-04,\n",
      "         1.3632e-01, 4.7013e-01, 3.7205e-01, 1.1178e-01, 3.8065e-01, 2.0667e-01,\n",
      "         1.4410e-01, 3.5442e-02, 1.2124e-02, 7.3372e-03, 7.6087e-04, 6.3551e-04,\n",
      "         2.0523e-04, 8.9818e-05, 7.9693e-05, 5.8489e-05, 4.4109e-05, 4.3273e-05,\n",
      "         1.1421e-05, 2.4285e-05, 6.6882e-06, 2.0078e-05, 1.6031e-05, 1.7724e-05,\n",
      "         1.8142e-05, 9.3282e-06, 1.4679e-05, 1.2943e-06, 4.0877e-06, 1.7091e-06,\n",
      "         1.3576e-06, 1.1773e-05, 5.8640e-06, 5.0601e-06, 5.6858e-06, 3.6700e-06,\n",
      "         1.9983e-06, 1.5210e-05, 2.3852e-06, 4.9559e-06, 8.9420e-06, 5.7257e-06,\n",
      "         9.9134e-07, 8.0674e-07, 4.7894e-06, 8.6569e-06, 9.9943e-06, 4.4657e-06,\n",
      "         2.7970e-07, 8.0156e-06, 4.6330e-06, 4.8581e-06, 7.3527e-06, 5.1665e-06,\n",
      "         7.9108e-07, 2.3760e-06, 8.8408e-06, 8.5963e-07, 9.3067e-06, 2.9650e-07,\n",
      "         6.5493e-07, 9.3824e-08, 1.7728e-06, 1.7521e-07, 1.2215e-06, 1.1009e-06,\n",
      "         8.1105e-06, 1.9874e-06, 4.3400e-06, 5.4028e-06, 3.3335e-06, 2.6416e-06,\n",
      "         1.2794e-06, 3.3645e-07, 5.4767e-06, 7.5746e-06, 1.1461e-05, 2.6903e-07,\n",
      "         8.7773e-07, 4.7562e-06, 1.2479e-06],\n",
      "        [2.8117e+02, 2.5816e+04, 1.8991e+04, 2.1974e+04, 2.1176e+04, 6.1357e+03,\n",
      "         7.4344e+03, 1.9413e+03, 1.3020e+02, 8.4328e+00, 8.2250e+01, 4.3994e+01,\n",
      "         1.6941e+01, 1.9299e+02, 1.6245e+01, 3.8670e+00, 4.9590e-01, 1.8126e+00,\n",
      "         1.1003e+01, 1.1967e+00, 7.5636e+00, 2.6440e+00, 1.2719e+00, 1.7479e+00,\n",
      "         4.9348e-01, 3.0027e+00, 4.1257e-01, 2.2550e-02, 2.0962e-02, 7.3333e-02,\n",
      "         1.2611e-01, 2.8494e-02, 1.0832e+00, 7.6299e-02, 1.1804e+00, 1.1939e+00,\n",
      "         1.3308e+00, 4.9800e-01, 3.8043e-01, 3.6463e-02, 3.4660e-02, 3.1027e-02,\n",
      "         3.3516e-02, 4.2367e-01, 2.0928e-01, 2.1199e-03, 3.1885e-03, 5.5441e-02,\n",
      "         5.0149e-02, 1.2712e-01, 8.0713e-04, 3.3080e-02, 9.7574e-02, 8.9404e-02,\n",
      "         4.7937e-02, 2.0680e-01, 3.8266e-02, 2.6383e-02, 2.6077e-03, 1.4704e-03,\n",
      "         5.2096e-04, 1.7085e-04, 8.0289e-06, 3.4721e-06, 2.1185e-05, 2.6414e-05,\n",
      "         2.0785e-05, 4.5702e-05, 1.4936e-05, 2.8518e-05, 2.4868e-05, 4.6266e-06,\n",
      "         6.3913e-06, 5.4286e-06, 7.4399e-06, 1.5606e-05, 1.0560e-05, 2.3274e-05,\n",
      "         1.1555e-05, 5.4194e-06, 4.4382e-07, 4.9803e-06, 3.3562e-06, 4.5379e-06,\n",
      "         1.5405e-05, 5.7868e-06, 2.6652e-05, 8.9195e-07, 2.1162e-06, 5.7353e-06,\n",
      "         2.4989e-08, 2.1100e-06, 1.3530e-05, 4.9054e-06, 3.7624e-07, 2.6498e-05,\n",
      "         1.6385e-05, 1.2175e-06, 2.0448e-06, 1.8084e-06, 8.9289e-07, 6.4141e-06,\n",
      "         4.6148e-06, 6.5692e-07, 6.7635e-06, 3.3498e-06, 2.6871e-06, 1.4977e-05,\n",
      "         3.3915e-06, 2.0114e-06, 1.1108e-06, 8.4815e-06, 6.3544e-06, 8.6263e-06,\n",
      "         2.9834e-06, 1.6834e-06, 9.5759e-07, 2.5758e-07, 3.2384e-06, 4.1955e-07,\n",
      "         1.2215e-05, 7.3157e-06, 6.7295e-06, 6.4530e-07, 2.6387e-07, 2.6390e-06,\n",
      "         2.8578e-06, 3.3516e-06, 3.2221e-06]])\n"
     ]
    }
   ],
   "source": [
    "# Initialize the spectrogram dataset\n",
    "init_(spectrograms)\n",
    "\n",
    "# Get the number of timesteps in the spectrogram dataset\n",
    "dataset_size = len_()\n",
    "\n",
    "# Create a random sample of 4 timesteps from the spectrogram dataset\n",
    "sample_size = 4\n",
    "sample_indices = np.random.choice(dataset_size, sample_size, replace=False)\n",
    "\n",
    "# Create an empty list to store batch frame items from the spectrogram\n",
    "batch = []\n",
    "\n",
    "# Use a for loop to get all batch frame items\n",
    "for i in sample_indices:\n",
    "    batch.append(getitem_(i))\n",
    "    \n",
    "# Collate the list of batch items into a usable form\n",
    "batch = collate_fn_(batch)\n",
    "print(batch)"
   ]
  },
  {
   "cell_type": "markdown",
   "metadata": {},
   "source": [
    "Example of how to create a Dataset class using init, len, getitem and collate "
   ]
  },
  {
   "cell_type": "code",
   "execution_count": 8,
   "metadata": {},
   "outputs": [],
   "source": [
    "class ExampleDataset(torch.utils.data.Dataset):\n",
    "    \n",
    "    def __init__(self, spectrograms):\n",
    "        \n",
    "        ### Code to be executed once at the beginning for initialization\n",
    "        self.spectrograms = spectrograms\n",
    "        \n",
    "        self.index_map = []\n",
    "        for i, spectrogram in enumerate(spectrograms):\n",
    "            for j, frame in enumerate(spectrogram):\n",
    "                index_pair = (i, j)\n",
    "                self.index_map.append(index_pair)\n",
    "        \n",
    "        self.length = len(self.index_map)\n",
    "        \n",
    "    def __len__(self):\n",
    "        \n",
    "        ### Return the number of items as length\n",
    "        return self.length\n",
    "    \n",
    "    def __getitem__(self, index):\n",
    "        \n",
    "        ### Return one item at recording i, timestep j\n",
    "        i, j = global_index_map[index]\n",
    "        frame = self.spectrograms[i][j, :]\n",
    "\n",
    "        return frame\n",
    "    \n",
    "    def collate_fn(batch):\n",
    "        \n",
    "        ### Specify how to collate list of items and what to return\n",
    "        batch = torch.as_tensor(batch)\n",
    "\n",
    "        return batch"
   ]
  },
  {
   "cell_type": "markdown",
   "metadata": {},
   "source": [
    "Example of how to use the dataset class and create a batch of size 4."
   ]
  },
  {
   "cell_type": "code",
   "execution_count": 9,
   "metadata": {},
   "outputs": [
    {
     "name": "stdout",
     "output_type": "stream",
     "text": [
      "tensor([[0.0000e+00, 0.0000e+00, 0.0000e+00, 0.0000e+00, 0.0000e+00, 0.0000e+00,\n",
      "         0.0000e+00, 0.0000e+00, 0.0000e+00, 0.0000e+00, 0.0000e+00, 0.0000e+00,\n",
      "         0.0000e+00, 0.0000e+00, 0.0000e+00, 0.0000e+00, 0.0000e+00, 0.0000e+00,\n",
      "         0.0000e+00, 0.0000e+00, 0.0000e+00, 0.0000e+00, 0.0000e+00, 0.0000e+00,\n",
      "         0.0000e+00, 0.0000e+00, 0.0000e+00, 0.0000e+00, 0.0000e+00, 0.0000e+00,\n",
      "         0.0000e+00, 0.0000e+00, 0.0000e+00, 0.0000e+00, 0.0000e+00, 0.0000e+00,\n",
      "         0.0000e+00, 0.0000e+00, 0.0000e+00, 0.0000e+00, 0.0000e+00, 0.0000e+00,\n",
      "         0.0000e+00, 0.0000e+00, 0.0000e+00, 0.0000e+00, 0.0000e+00, 0.0000e+00,\n",
      "         0.0000e+00, 0.0000e+00, 0.0000e+00, 0.0000e+00, 0.0000e+00, 0.0000e+00,\n",
      "         0.0000e+00, 0.0000e+00, 0.0000e+00, 0.0000e+00, 0.0000e+00, 0.0000e+00,\n",
      "         0.0000e+00, 0.0000e+00, 0.0000e+00, 0.0000e+00, 0.0000e+00, 0.0000e+00,\n",
      "         0.0000e+00, 0.0000e+00, 0.0000e+00, 0.0000e+00, 0.0000e+00, 0.0000e+00,\n",
      "         0.0000e+00, 0.0000e+00, 0.0000e+00, 0.0000e+00, 0.0000e+00, 0.0000e+00,\n",
      "         0.0000e+00, 0.0000e+00, 0.0000e+00, 0.0000e+00, 0.0000e+00, 0.0000e+00,\n",
      "         0.0000e+00, 0.0000e+00, 0.0000e+00, 0.0000e+00, 0.0000e+00, 0.0000e+00,\n",
      "         0.0000e+00, 0.0000e+00, 0.0000e+00, 0.0000e+00, 0.0000e+00, 0.0000e+00,\n",
      "         0.0000e+00, 0.0000e+00, 0.0000e+00, 0.0000e+00, 0.0000e+00, 0.0000e+00,\n",
      "         0.0000e+00, 0.0000e+00, 0.0000e+00, 0.0000e+00, 0.0000e+00, 0.0000e+00,\n",
      "         0.0000e+00, 0.0000e+00, 0.0000e+00, 0.0000e+00, 0.0000e+00, 0.0000e+00,\n",
      "         0.0000e+00, 0.0000e+00, 0.0000e+00, 0.0000e+00, 0.0000e+00, 0.0000e+00,\n",
      "         0.0000e+00, 0.0000e+00, 0.0000e+00, 0.0000e+00, 0.0000e+00, 0.0000e+00,\n",
      "         0.0000e+00, 0.0000e+00, 0.0000e+00],\n",
      "        [0.0000e+00, 0.0000e+00, 0.0000e+00, 0.0000e+00, 0.0000e+00, 0.0000e+00,\n",
      "         0.0000e+00, 0.0000e+00, 0.0000e+00, 0.0000e+00, 0.0000e+00, 0.0000e+00,\n",
      "         0.0000e+00, 0.0000e+00, 0.0000e+00, 0.0000e+00, 0.0000e+00, 0.0000e+00,\n",
      "         0.0000e+00, 0.0000e+00, 0.0000e+00, 0.0000e+00, 0.0000e+00, 0.0000e+00,\n",
      "         0.0000e+00, 0.0000e+00, 0.0000e+00, 0.0000e+00, 0.0000e+00, 0.0000e+00,\n",
      "         0.0000e+00, 0.0000e+00, 0.0000e+00, 0.0000e+00, 0.0000e+00, 0.0000e+00,\n",
      "         0.0000e+00, 0.0000e+00, 0.0000e+00, 0.0000e+00, 0.0000e+00, 0.0000e+00,\n",
      "         0.0000e+00, 0.0000e+00, 0.0000e+00, 0.0000e+00, 0.0000e+00, 0.0000e+00,\n",
      "         0.0000e+00, 0.0000e+00, 0.0000e+00, 0.0000e+00, 0.0000e+00, 0.0000e+00,\n",
      "         0.0000e+00, 0.0000e+00, 0.0000e+00, 0.0000e+00, 0.0000e+00, 0.0000e+00,\n",
      "         0.0000e+00, 0.0000e+00, 0.0000e+00, 0.0000e+00, 0.0000e+00, 0.0000e+00,\n",
      "         0.0000e+00, 0.0000e+00, 0.0000e+00, 0.0000e+00, 0.0000e+00, 0.0000e+00,\n",
      "         0.0000e+00, 0.0000e+00, 0.0000e+00, 0.0000e+00, 0.0000e+00, 0.0000e+00,\n",
      "         0.0000e+00, 0.0000e+00, 0.0000e+00, 0.0000e+00, 0.0000e+00, 0.0000e+00,\n",
      "         0.0000e+00, 0.0000e+00, 0.0000e+00, 0.0000e+00, 0.0000e+00, 0.0000e+00,\n",
      "         0.0000e+00, 0.0000e+00, 0.0000e+00, 0.0000e+00, 0.0000e+00, 0.0000e+00,\n",
      "         0.0000e+00, 0.0000e+00, 0.0000e+00, 0.0000e+00, 0.0000e+00, 0.0000e+00,\n",
      "         0.0000e+00, 0.0000e+00, 0.0000e+00, 0.0000e+00, 0.0000e+00, 0.0000e+00,\n",
      "         0.0000e+00, 0.0000e+00, 0.0000e+00, 0.0000e+00, 0.0000e+00, 0.0000e+00,\n",
      "         0.0000e+00, 0.0000e+00, 0.0000e+00, 0.0000e+00, 0.0000e+00, 0.0000e+00,\n",
      "         0.0000e+00, 0.0000e+00, 0.0000e+00, 0.0000e+00, 0.0000e+00, 0.0000e+00,\n",
      "         0.0000e+00, 0.0000e+00, 0.0000e+00],\n",
      "        [1.3123e+01, 1.7375e+01, 8.7614e+01, 2.9248e+01, 2.8899e+01, 2.7589e+00,\n",
      "         1.0073e+01, 6.3986e+00, 2.1299e+02, 2.3576e+02, 7.1418e+02, 1.6630e+03,\n",
      "         1.2071e+03, 8.2386e+02, 9.7298e+03, 7.0362e+03, 3.3595e+02, 1.2054e+03,\n",
      "         3.1661e+02, 4.8229e+02, 9.0720e+02, 2.5745e+03, 3.4123e+02, 8.1295e+01,\n",
      "         6.1990e+01, 4.0053e+01, 4.5651e+02, 4.1653e+02, 1.4661e+02, 7.6539e+01,\n",
      "         2.4726e+03, 1.8880e+02, 7.1214e+02, 2.6926e+03, 3.3596e+02, 5.6889e+02,\n",
      "         1.9990e+02, 4.4480e+02, 1.0613e+02, 2.5124e+01, 6.7145e+00, 1.3715e+02,\n",
      "         2.7059e+01, 4.5510e+01, 3.4767e+01, 3.0985e+01, 1.5035e+01, 1.4641e+00,\n",
      "         3.7737e-01, 5.4842e-02, 3.9882e+00, 8.4859e-01, 3.4814e-01, 2.1640e-02,\n",
      "         4.1593e-04, 4.9697e-02, 7.4918e-03, 1.0760e-04, 1.1090e-04, 2.7197e-04,\n",
      "         5.2779e-04, 6.9563e-04, 4.1604e-04, 1.6173e-04, 6.3737e-05, 5.1096e-05,\n",
      "         1.0072e-05, 4.6805e-05, 4.2539e-05, 1.1745e-04, 9.9175e-05, 5.2465e-05,\n",
      "         1.2332e-05, 1.7181e-06, 6.2964e-06, 1.4027e-05, 2.5382e-05, 3.8037e-05,\n",
      "         3.0916e-05, 1.1737e-05, 2.0851e-05, 1.2193e-06, 5.7496e-06, 1.7975e-06,\n",
      "         7.7344e-06, 2.6512e-05, 7.6089e-06, 6.7722e-06, 3.1106e-06, 4.3766e-06,\n",
      "         1.3440e-07, 5.5403e-06, 2.7965e-06, 8.3218e-06, 5.0989e-06, 2.5961e-06,\n",
      "         6.2607e-06, 5.4700e-07, 8.8082e-06, 1.5977e-05, 1.4287e-06, 6.0906e-06,\n",
      "         4.2690e-06, 3.7372e-07, 4.8339e-06, 1.3553e-06, 2.6750e-06, 2.7612e-06,\n",
      "         3.5439e-06, 2.2300e-07, 4.5788e-06, 2.6169e-06, 2.6797e-06, 6.4011e-06,\n",
      "         5.0717e-07, 3.7454e-06, 1.2156e-05, 9.1773e-07, 3.6118e-06, 3.9852e-07,\n",
      "         1.7472e-07, 1.6854e-06, 3.5939e-06, 3.5265e-06, 3.0756e-06, 1.7997e-07,\n",
      "         2.7565e-07, 1.9691e-06, 2.6420e-06],\n",
      "        [1.1213e+03, 1.9191e+04, 7.1058e+03, 1.4061e+04, 2.6555e+03, 1.8616e+03,\n",
      "         3.7163e+03, 1.4309e+03, 1.3016e+04, 9.6443e+03, 7.6712e+03, 1.2121e+02,\n",
      "         5.1687e+00, 8.4533e-01, 3.5030e+00, 4.7553e+00, 4.0563e+00, 3.8916e+00,\n",
      "         9.5193e-01, 1.1108e+00, 1.1498e+01, 1.9449e+00, 2.4589e-01, 2.3097e-01,\n",
      "         1.2220e-01, 8.5624e-02, 2.0516e-01, 1.7011e-02, 3.3704e-03, 4.2955e-03,\n",
      "         6.2425e-03, 4.0520e-02, 9.1918e-02, 8.6171e-02, 8.0739e-02, 3.6434e-01,\n",
      "         2.9973e+00, 1.2034e+00, 1.2561e-01, 7.4108e-01, 1.2887e+00, 1.1111e+00,\n",
      "         2.8077e-01, 5.3727e-01, 3.2923e+00, 3.8426e+00, 8.1443e-01, 5.7294e-01,\n",
      "         1.0095e-01, 9.6230e-02, 9.7686e-01, 2.4197e+00, 5.5683e-01, 9.8433e-01,\n",
      "         4.9254e-01, 9.6376e-01, 5.4003e-02, 1.4524e-02, 7.3734e-03, 4.4330e-03,\n",
      "         2.5659e-03, 1.0935e-03, 4.8872e-04, 1.0095e-04, 7.1890e-05, 1.7108e-05,\n",
      "         1.9422e-05, 1.9423e-06, 3.1475e-06, 8.8261e-07, 2.3536e-05, 2.9777e-07,\n",
      "         9.3168e-06, 1.4383e-05, 4.8425e-06, 4.4409e-06, 4.8043e-06, 2.6150e-06,\n",
      "         7.6750e-07, 1.6207e-06, 1.2480e-06, 3.3230e-06, 1.6866e-06, 5.2057e-07,\n",
      "         6.3589e-06, 2.6249e-06, 4.3198e-07, 3.3520e-06, 4.6789e-07, 9.2200e-07,\n",
      "         1.7958e-06, 1.1646e-05, 3.3570e-06, 5.4689e-06, 1.5485e-05, 6.4729e-06,\n",
      "         3.8730e-06, 1.0897e-06, 3.3908e-07, 1.6970e-06, 1.0322e-05, 7.9557e-06,\n",
      "         1.5465e-06, 5.6884e-06, 1.8444e-06, 2.1603e-07, 5.4269e-07, 2.0511e-05,\n",
      "         1.9361e-05, 2.0928e-06, 6.0312e-06, 4.0147e-07, 2.5012e-06, 5.0447e-06,\n",
      "         3.2748e-06, 2.1237e-07, 4.5365e-07, 1.2882e-06, 4.3725e-07, 3.0511e-06,\n",
      "         8.5414e-06, 1.1541e-07, 6.5345e-06, 2.2595e-06, 2.1122e-06, 2.0870e-06,\n",
      "         3.4664e-06, 1.2314e-06, 3.3356e-06]])\n"
     ]
    }
   ],
   "source": [
    "# Instantiate the dataset class object\n",
    "dataset = ExampleDataset(spectrograms)\n",
    "\n",
    "# Create a random sample of 4 indecies from the dataset\n",
    "sample_size = 4\n",
    "sample_indices = np.random.choice(len(dataset), sample_size, replace=False)\n",
    "\n",
    "# Create an empty list to store batch items from the dataset\n",
    "batch = []\n",
    "\n",
    "# Use a for loop to get all batch items\n",
    "for i in sample_indices:\n",
    "    batch.append(dataset[i])\n",
    "    \n",
    "# Collate the batch items into a usable form\n",
    "batch = ExampleDataset.collate_fn(batch)\n",
    "print(batch)"
   ]
  },
  {
   "cell_type": "markdown",
   "metadata": {},
   "source": [
    "Note: The example provided does not take advantage of \"multithreading\". When a dataset class is combined with a data loader class, you are able to use multithreading and dramatically increase your data loading performance. The data loader class is covered in a future tutorial of this series."
   ]
  },
  {
   "cell_type": "code",
   "execution_count": null,
   "metadata": {},
   "outputs": [],
   "source": []
  }
 ],
 "metadata": {
  "kernelspec": {
   "display_name": "PyTorch 3.6",
   "language": "python",
   "name": "pytorch_p36"
  },
  "language_info": {
   "codemirror_mode": {
    "name": "ipython",
    "version": 3
   },
   "file_extension": ".py",
   "mimetype": "text/x-python",
   "name": "python",
   "nbconvert_exporter": "python",
   "pygments_lexer": "ipython3",
   "version": "3.6.10"
  }
 },
 "nbformat": 4,
 "nbformat_minor": 4
}
