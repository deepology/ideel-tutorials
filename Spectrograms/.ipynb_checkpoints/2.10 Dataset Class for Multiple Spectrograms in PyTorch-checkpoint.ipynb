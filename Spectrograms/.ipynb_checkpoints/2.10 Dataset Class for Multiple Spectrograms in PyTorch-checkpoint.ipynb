{
 "cells": [
  {
   "cell_type": "markdown",
   "metadata": {},
   "source": []
  },
  {
   "cell_type": "code",
   "execution_count": null,
   "metadata": {},
   "outputs": [],
   "source": [
    "import numpy as np\n",
    "import torch"
   ]
  },
  {
   "cell_type": "markdown",
   "metadata": {},
   "source": []
  },
  {
   "cell_type": "code",
   "execution_count": 1,
   "metadata": {},
   "outputs": [],
   "source": [
    "spectrograms  = np.load(\"./samples/spectrograms/linear/all_spectrograms.npy\", allow_pickle=True)"
   ]
  },
  {
   "cell_type": "markdown",
   "metadata": {},
   "source": [
    "**Step 1:** Code to be executed once at the beginning for initialization"
   ]
  },
  {
   "cell_type": "code",
   "execution_count": 2,
   "metadata": {},
   "outputs": [],
   "source": [
    "def init_(spectrograms):\n",
    "    \n",
    "    #\n",
    "    global global_spectrograms\n",
    "    global_spectrograms = spectrograms\n",
    "    \n",
    "    #\n",
    "    global global_index_map\n",
    "    global_index_map = []\n",
    "    \n",
    "    #\n",
    "    for i, spectrogram in enumerate(spectrograms):\n",
    "        for j, frame in enumerate(spectrogram):\n",
    "            index_pair = (i, j)\n",
    "            global_index_map.append(index_pair)\n",
    "    \n",
    "    #\n",
    "    global global_length\n",
    "    global_length = len(global_index_map)\n",
    "    \n",
    "    return None"
   ]
  },
  {
   "cell_type": "markdown",
   "metadata": {},
   "source": [
    "**Step 2:** Code to return the number of items as length"
   ]
  },
  {
   "cell_type": "code",
   "execution_count": 3,
   "metadata": {},
   "outputs": [],
   "source": [
    "def len_():\n",
    "    \n",
    "    return global_length"
   ]
  },
  {
   "cell_type": "markdown",
   "metadata": {},
   "source": [
    "**Step 3:** Code to return the x item at sample i, row j"
   ]
  },
  {
   "cell_type": "code",
   "execution_count": 4,
   "metadata": {},
   "outputs": [],
   "source": [
    "def getitem_(index):\n",
    "    i, j = global_index_map[index]\n",
    "    frame = global_spectrograms[i][j, :]\n",
    "    \n",
    "    return frame"
   ]
  },
  {
   "cell_type": "markdown",
   "metadata": {},
   "source": [
    "**Step 4:** Code to return the collated list of items"
   ]
  },
  {
   "cell_type": "code",
   "execution_count": 5,
   "metadata": {},
   "outputs": [],
   "source": [
    "def collate_fn_(batch):\n",
    "    \n",
    "    batch = torch.as_tensor(batch)\n",
    "    \n",
    "    return batch"
   ]
  },
  {
   "cell_type": "markdown",
   "metadata": {},
   "source": [
    "Example of how to use init, len, getitem, and collate as functions"
   ]
  },
  {
   "cell_type": "code",
   "execution_count": 6,
   "metadata": {},
   "outputs": [],
   "source": [
    "init_(spectrograms)\n",
    "\n",
    "batch = []\n",
    "for index in range(len_()):\n",
    "    batch.append(getitem_(index))\n",
    "    \n",
    "batch = collate_fn_(batch)"
   ]
  },
  {
   "cell_type": "markdown",
   "metadata": {},
   "source": [
    "Example of how to create a Dataset class using init, len, getitem and collate "
   ]
  },
  {
   "cell_type": "code",
   "execution_count": 7,
   "metadata": {},
   "outputs": [],
   "source": [
    "class ExampleDataset(torch.utils.data.Dataset):\n",
    "    \n",
    "    def __init__(self, spectrograms):\n",
    "        \n",
    "        ### Code to be executed once at the beginning for initialization\n",
    "        self.spectrograms = spectrograms\n",
    "        \n",
    "        self.index_map = []\n",
    "        for i, spectrogram in enumerate(spectrograms):\n",
    "            for j, frame in enumerate(spectrogram):\n",
    "                index_pair = (i, j)\n",
    "                self.index_map.append(index_pair)\n",
    "        \n",
    "        self.length = len(self.index_map)\n",
    "        \n",
    "    def __len__(self):\n",
    "        \n",
    "        ### Return the number of items as length\n",
    "        return self.length\n",
    "    \n",
    "    def __getitem__(self, index):\n",
    "        \n",
    "        ### Return one item at recording i, timestep j\n",
    "        i, j = global_index_map[index]\n",
    "        frame = global_X[i][j, :]\n",
    "\n",
    "        return frame\n",
    "    \n",
    "    def collate_fn(batch):\n",
    "        \n",
    "        ### Specify how to collate list of items and what to return\n",
    "        batch = torch.as_tensor(batch)\n",
    "\n",
    "        return batch\n",
    "        \n",
    "    \n",
    "dataset = ExampleDataset(spectrograms)"
   ]
  },
  {
   "cell_type": "markdown",
   "metadata": {},
   "source": []
  },
  {
   "cell_type": "code",
   "execution_count": null,
   "metadata": {},
   "outputs": [],
   "source": []
  }
 ],
 "metadata": {
  "kernelspec": {
   "display_name": "PyTorch 3.6",
   "language": "python",
   "name": "pytorch_p36"
  },
  "language_info": {
   "codemirror_mode": {
    "name": "ipython",
    "version": 3
   },
   "file_extension": ".py",
   "mimetype": "text/x-python",
   "name": "python",
   "nbconvert_exporter": "python",
   "pygments_lexer": "ipython3",
   "version": "3.6.10"
  }
 },
 "nbformat": 4,
 "nbformat_minor": 4
}
