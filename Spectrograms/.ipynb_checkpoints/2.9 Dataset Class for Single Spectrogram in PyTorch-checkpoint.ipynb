{
 "cells": [
  {
   "cell_type": "markdown",
   "metadata": {},
   "source": []
  },
  {
   "cell_type": "code",
   "execution_count": null,
   "metadata": {},
   "outputs": [],
   "source": [
    "import numpy as np\n",
    "import torch"
   ]
  },
  {
   "cell_type": "markdown",
   "metadata": {},
   "source": []
  },
  {
   "cell_type": "code",
   "execution_count": 1,
   "metadata": {},
   "outputs": [],
   "source": [
    "spectrogram = np.load(\"./samples/spectrograms/linear/spectrogram-1.npy\")"
   ]
  },
  {
   "cell_type": "markdown",
   "metadata": {},
   "source": [
    "**Step 1:** Code to be executed once at the beginning for initialization"
   ]
  },
  {
   "cell_type": "code",
   "execution_count": 2,
   "metadata": {},
   "outputs": [],
   "source": [
    "def init_(spectrogram):\n",
    "    \n",
    "    #\n",
    "    global global_spectrogram\n",
    "    global_spectrogram = spectrogram\n",
    "    \n",
    "    #\n",
    "    global global_length\n",
    "    global_length = len(spectrogram)\n",
    "    \n",
    "    return None"
   ]
  },
  {
   "cell_type": "markdown",
   "metadata": {},
   "source": [
    "**Step 2:** Code to return the number of items as length"
   ]
  },
  {
   "cell_type": "code",
   "execution_count": 3,
   "metadata": {},
   "outputs": [],
   "source": [
    "def len_():\n",
    "    \n",
    "    #\n",
    "    return global_length"
   ]
  },
  {
   "cell_type": "markdown",
   "metadata": {},
   "source": [
    "**Step 3:** Code to return the x item at row i"
   ]
  },
  {
   "cell_type": "code",
   "execution_count": 4,
   "metadata": {},
   "outputs": [],
   "source": [
    "def getitem_(i):\n",
    "    \n",
    "    #\n",
    "    frame = global_spectrogram[i]\n",
    "    \n",
    "    return frame"
   ]
  },
  {
   "cell_type": "markdown",
   "metadata": {},
   "source": [
    "**Step 4:** Code to return the collated list of items"
   ]
  },
  {
   "cell_type": "code",
   "execution_count": 5,
   "metadata": {},
   "outputs": [],
   "source": [
    "def collate_fn_(batch):\n",
    "    \n",
    "    #\n",
    "    batch = torch.as_tensor(batch)\n",
    "    \n",
    "    return batch"
   ]
  },
  {
   "cell_type": "markdown",
   "metadata": {},
   "source": [
    "Example of how to use init, len, getitem, and collate as functions"
   ]
  },
  {
   "cell_type": "code",
   "execution_count": 6,
   "metadata": {},
   "outputs": [],
   "source": [
    "init_(spectrogram)\n",
    "\n",
    "batch = []\n",
    "for i in range(len_()):\n",
    "    batch.append(getitem_(i))\n",
    "    \n",
    "batch = collate_fn_(batch)"
   ]
  },
  {
   "cell_type": "markdown",
   "metadata": {},
   "source": [
    "Example of how to create a Dataset class using init, len, getitem and collate "
   ]
  },
  {
   "cell_type": "code",
   "execution_count": 7,
   "metadata": {},
   "outputs": [],
   "source": [
    "class ExampleDataset(torch.utils.data.Dataset):\n",
    "    \n",
    "    def __init__(self, spectrogram):\n",
    "        \n",
    "        ### Code to be executed once at the beginning for initialization\n",
    "        self.spctrogram = spectrogram\n",
    "        self.length = len(spectrogram)\n",
    "        \n",
    "    def __len__(self):\n",
    "        \n",
    "        ### Return the number of items as length\n",
    "        return self.length\n",
    "    \n",
    "    def __getitem__(self, i):\n",
    "        \n",
    "        ### Return one item at index i\n",
    "        frame = self.spectrogram[i]\n",
    "        \n",
    "        return frame\n",
    "    \n",
    "    def collate_fn(batch):\n",
    "        \n",
    "        ### Specify how to collate list of items and what to return\n",
    "        batch = torch.as_tensor(batch)\n",
    "\n",
    "        return batch\n",
    "        \n",
    "    \n",
    "dataset = ExampleDataset(spectrogram)"
   ]
  }
 ],
 "metadata": {
  "kernelspec": {
   "display_name": "PyTorch 3.6",
   "language": "python",
   "name": "pytorch_p36"
  },
  "language_info": {
   "codemirror_mode": {
    "name": "ipython",
    "version": 3
   },
   "file_extension": ".py",
   "mimetype": "text/x-python",
   "name": "python",
   "nbconvert_exporter": "python",
   "pygments_lexer": "ipython3",
   "version": "3.6.10"
  }
 },
 "nbformat": 4,
 "nbformat_minor": 4
}
