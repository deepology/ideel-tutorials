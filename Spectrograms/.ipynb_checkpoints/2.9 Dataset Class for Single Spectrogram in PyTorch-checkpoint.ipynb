{
 "cells": [
  {
   "cell_type": "markdown",
   "metadata": {},
   "source": [
    "Old Documentation:\n",
    "\n",
    "- [`import`](https://docs.python.org/3/reference/simple_stmts.html#the-import-statement)\n",
    "- [`len`](https://docs.python.org/3/library/functions.html#len)\n",
    "- [`numpy`](https://numpy.org/doc/1.19/user/whatisnumpy.html)\n",
    "- [`numpy.array`](https://numpy.org/doc/stable/reference/generated/numpy.array.html)\n",
    "- [numpy indexing](https://numpy.org/doc/stable/reference/arrays.indexing.html)\n",
    "- [`torch`](https://pytorch.org/docs/stable/index.html)\n",
    "- [`torch.Tensor`](https://pytorch.org/docs/stable/tensors.html#torch.Tensor)\n",
    "- [`torch.utils.data`](https://pytorch.org/docs/stable/data.html#torch.utils.data)\n",
    "- [`torch.utils.data.Dataset`](https://pytorch.org/docs/stable/data.html#torch.utils.data.Dataset)"
   ]
  },
  {
   "cell_type": "markdown",
   "metadata": {},
   "source": [
    "Import the numpy and pytorch (torch) modules."
   ]
  },
  {
   "cell_type": "code",
   "execution_count": 1,
   "metadata": {},
   "outputs": [],
   "source": [
    "import numpy as np\n",
    "import torch"
   ]
  },
  {
   "cell_type": "markdown",
   "metadata": {},
   "source": [
    "Create the sample dataset to be used in this notebook."
   ]
  },
  {
   "cell_type": "code",
   "execution_count": 2,
   "metadata": {},
   "outputs": [],
   "source": [
    "spectrogram = np.load(\"./samples/spectrograms/linear/spectrogram-1.npy\")"
   ]
  },
  {
   "cell_type": "markdown",
   "metadata": {},
   "source": [
    "**Step 1:** Code to be executed once at the beginning for initialization"
   ]
  },
  {
   "cell_type": "code",
   "execution_count": 3,
   "metadata": {},
   "outputs": [],
   "source": [
    "def init_(spectrogram):\n",
    "    \n",
    "    # Create a global variable of with the spectrogram to be accessed in other functions\n",
    "    global global_spectrogram\n",
    "    global_spectrogram = spectrogram\n",
    "    \n",
    "    # Create a global variable of the number of timesteps to be accessed in other functions\n",
    "    global global_length\n",
    "    global_length = len(spectrogram)\n",
    "    \n",
    "    return None"
   ]
  },
  {
   "cell_type": "markdown",
   "metadata": {},
   "source": [
    "**Step 2:** Code to return the number of items as length"
   ]
  },
  {
   "cell_type": "code",
   "execution_count": 4,
   "metadata": {},
   "outputs": [],
   "source": [
    "def len_():\n",
    "    \n",
    "    # Return the global variable of the number of timesteps in the spectrogram\n",
    "    return global_length"
   ]
  },
  {
   "cell_type": "markdown",
   "metadata": {},
   "source": [
    "**Step 3:** Code to return the x item at row i"
   ]
  },
  {
   "cell_type": "code",
   "execution_count": 5,
   "metadata": {},
   "outputs": [],
   "source": [
    "def getitem_(i):\n",
    "    \n",
    "    # Index the global variable for the spectrogram at timestep index i\n",
    "    frame = global_spectrogram[i]\n",
    "    \n",
    "    return frame"
   ]
  },
  {
   "cell_type": "markdown",
   "metadata": {},
   "source": [
    "**Step 4:** Code to return the collated list of items"
   ]
  },
  {
   "cell_type": "code",
   "execution_count": 6,
   "metadata": {},
   "outputs": [],
   "source": [
    "def collate_fn_(batch):\n",
    "    \n",
    "    # Convert input batch to a tensor type\n",
    "    batch = torch.as_tensor(batch)\n",
    "    \n",
    "    return batch"
   ]
  },
  {
   "cell_type": "markdown",
   "metadata": {},
   "source": [
    "Example of how to use init, len, getitem, and collate as functions. Here, we create a batch of size 4."
   ]
  },
  {
   "cell_type": "code",
   "execution_count": 7,
   "metadata": {},
   "outputs": [
    {
     "name": "stdout",
     "output_type": "stream",
     "text": [
      "tensor([[7.9835e+01, 2.1501e+02, 1.9463e+02, 1.3183e+02, 2.2645e+01, 1.1153e+01,\n",
      "         1.8954e+01, 6.6624e+00, 3.2340e+01, 3.6694e+00, 4.9942e+01, 3.5387e+01,\n",
      "         3.6946e+00, 1.2641e+00, 8.4123e-01, 5.6305e-01, 4.1902e-01, 3.7325e-01,\n",
      "         1.7261e-01, 4.1596e-01, 7.4855e-02, 1.3078e-02, 6.9436e-03, 3.6314e-03,\n",
      "         2.0560e-04, 1.1919e-02, 4.7789e-02, 1.0184e-02, 2.6751e-03, 6.1214e-04,\n",
      "         2.8655e-04, 1.0453e-03, 3.9081e-03, 9.7787e-04, 1.6953e-03, 1.7556e-03,\n",
      "         4.4809e-03, 6.9582e-04, 3.6111e-03, 3.1361e-03, 1.7533e-02, 4.0718e-02,\n",
      "         3.0808e-02, 1.1993e-03, 3.0316e-02, 1.5357e-02, 7.6425e-03, 1.5624e-02,\n",
      "         7.9152e-03, 1.0366e-02, 1.9790e-02, 5.2057e-02, 8.0764e-02, 5.6641e-02,\n",
      "         1.0989e-02, 4.7229e-03, 3.1400e-03, 6.8731e-04, 1.2368e-04, 8.1310e-05,\n",
      "         6.9056e-05, 3.3656e-05, 5.6774e-05, 1.8393e-05, 2.1552e-05, 1.8011e-07,\n",
      "         5.4272e-06, 1.2607e-06, 4.4477e-06, 3.0491e-07, 2.5963e-06, 6.6436e-06,\n",
      "         3.7862e-06, 7.2772e-06, 1.3174e-05, 8.6123e-06, 1.7489e-06, 4.2693e-06,\n",
      "         9.9040e-07, 1.1483e-06, 3.4133e-07, 2.4254e-06, 7.3374e-06, 3.8787e-06,\n",
      "         7.1320e-06, 2.5621e-06, 1.4678e-06, 1.0076e-06, 4.3693e-06, 5.0214e-06,\n",
      "         2.9270e-06, 8.8659e-07, 9.4711e-06, 2.6009e-07, 4.2849e-07, 4.4848e-07,\n",
      "         3.0460e-06, 6.8076e-06, 1.3373e-06, 2.1018e-06, 7.3251e-06, 2.8955e-06,\n",
      "         1.1441e-07, 1.5555e-05, 7.2416e-06, 8.4046e-07, 4.3400e-06, 6.2172e-07,\n",
      "         3.3030e-06, 4.5148e-06, 7.0869e-06, 8.1080e-08, 1.1201e-06, 2.5480e-06,\n",
      "         5.0642e-06, 1.8494e-06, 1.8375e-07, 6.0060e-07, 3.3306e-06, 7.0206e-07,\n",
      "         2.8511e-06, 6.7875e-07, 3.8814e-06, 1.1214e-05, 3.1375e-06, 6.4628e-07,\n",
      "         2.3431e-07, 8.2506e-06, 2.9052e-08],\n",
      "        [0.0000e+00, 0.0000e+00, 0.0000e+00, 0.0000e+00, 0.0000e+00, 0.0000e+00,\n",
      "         0.0000e+00, 0.0000e+00, 0.0000e+00, 0.0000e+00, 0.0000e+00, 0.0000e+00,\n",
      "         0.0000e+00, 0.0000e+00, 0.0000e+00, 0.0000e+00, 0.0000e+00, 0.0000e+00,\n",
      "         0.0000e+00, 0.0000e+00, 0.0000e+00, 0.0000e+00, 0.0000e+00, 0.0000e+00,\n",
      "         0.0000e+00, 0.0000e+00, 0.0000e+00, 0.0000e+00, 0.0000e+00, 0.0000e+00,\n",
      "         0.0000e+00, 0.0000e+00, 0.0000e+00, 0.0000e+00, 0.0000e+00, 0.0000e+00,\n",
      "         0.0000e+00, 0.0000e+00, 0.0000e+00, 0.0000e+00, 0.0000e+00, 0.0000e+00,\n",
      "         0.0000e+00, 0.0000e+00, 0.0000e+00, 0.0000e+00, 0.0000e+00, 0.0000e+00,\n",
      "         0.0000e+00, 0.0000e+00, 0.0000e+00, 0.0000e+00, 0.0000e+00, 0.0000e+00,\n",
      "         0.0000e+00, 0.0000e+00, 0.0000e+00, 0.0000e+00, 0.0000e+00, 0.0000e+00,\n",
      "         0.0000e+00, 0.0000e+00, 0.0000e+00, 0.0000e+00, 0.0000e+00, 0.0000e+00,\n",
      "         0.0000e+00, 0.0000e+00, 0.0000e+00, 0.0000e+00, 0.0000e+00, 0.0000e+00,\n",
      "         0.0000e+00, 0.0000e+00, 0.0000e+00, 0.0000e+00, 0.0000e+00, 0.0000e+00,\n",
      "         0.0000e+00, 0.0000e+00, 0.0000e+00, 0.0000e+00, 0.0000e+00, 0.0000e+00,\n",
      "         0.0000e+00, 0.0000e+00, 0.0000e+00, 0.0000e+00, 0.0000e+00, 0.0000e+00,\n",
      "         0.0000e+00, 0.0000e+00, 0.0000e+00, 0.0000e+00, 0.0000e+00, 0.0000e+00,\n",
      "         0.0000e+00, 0.0000e+00, 0.0000e+00, 0.0000e+00, 0.0000e+00, 0.0000e+00,\n",
      "         0.0000e+00, 0.0000e+00, 0.0000e+00, 0.0000e+00, 0.0000e+00, 0.0000e+00,\n",
      "         0.0000e+00, 0.0000e+00, 0.0000e+00, 0.0000e+00, 0.0000e+00, 0.0000e+00,\n",
      "         0.0000e+00, 0.0000e+00, 0.0000e+00, 0.0000e+00, 0.0000e+00, 0.0000e+00,\n",
      "         0.0000e+00, 0.0000e+00, 0.0000e+00, 0.0000e+00, 0.0000e+00, 0.0000e+00,\n",
      "         0.0000e+00, 0.0000e+00, 0.0000e+00],\n",
      "        [0.0000e+00, 0.0000e+00, 0.0000e+00, 0.0000e+00, 0.0000e+00, 0.0000e+00,\n",
      "         0.0000e+00, 0.0000e+00, 0.0000e+00, 0.0000e+00, 0.0000e+00, 0.0000e+00,\n",
      "         0.0000e+00, 0.0000e+00, 0.0000e+00, 0.0000e+00, 0.0000e+00, 0.0000e+00,\n",
      "         0.0000e+00, 0.0000e+00, 0.0000e+00, 0.0000e+00, 0.0000e+00, 0.0000e+00,\n",
      "         0.0000e+00, 0.0000e+00, 0.0000e+00, 0.0000e+00, 0.0000e+00, 0.0000e+00,\n",
      "         0.0000e+00, 0.0000e+00, 0.0000e+00, 0.0000e+00, 0.0000e+00, 0.0000e+00,\n",
      "         0.0000e+00, 0.0000e+00, 0.0000e+00, 0.0000e+00, 0.0000e+00, 0.0000e+00,\n",
      "         0.0000e+00, 0.0000e+00, 0.0000e+00, 0.0000e+00, 0.0000e+00, 0.0000e+00,\n",
      "         0.0000e+00, 0.0000e+00, 0.0000e+00, 0.0000e+00, 0.0000e+00, 0.0000e+00,\n",
      "         0.0000e+00, 0.0000e+00, 0.0000e+00, 0.0000e+00, 0.0000e+00, 0.0000e+00,\n",
      "         0.0000e+00, 0.0000e+00, 0.0000e+00, 0.0000e+00, 0.0000e+00, 0.0000e+00,\n",
      "         0.0000e+00, 0.0000e+00, 0.0000e+00, 0.0000e+00, 0.0000e+00, 0.0000e+00,\n",
      "         0.0000e+00, 0.0000e+00, 0.0000e+00, 0.0000e+00, 0.0000e+00, 0.0000e+00,\n",
      "         0.0000e+00, 0.0000e+00, 0.0000e+00, 0.0000e+00, 0.0000e+00, 0.0000e+00,\n",
      "         0.0000e+00, 0.0000e+00, 0.0000e+00, 0.0000e+00, 0.0000e+00, 0.0000e+00,\n",
      "         0.0000e+00, 0.0000e+00, 0.0000e+00, 0.0000e+00, 0.0000e+00, 0.0000e+00,\n",
      "         0.0000e+00, 0.0000e+00, 0.0000e+00, 0.0000e+00, 0.0000e+00, 0.0000e+00,\n",
      "         0.0000e+00, 0.0000e+00, 0.0000e+00, 0.0000e+00, 0.0000e+00, 0.0000e+00,\n",
      "         0.0000e+00, 0.0000e+00, 0.0000e+00, 0.0000e+00, 0.0000e+00, 0.0000e+00,\n",
      "         0.0000e+00, 0.0000e+00, 0.0000e+00, 0.0000e+00, 0.0000e+00, 0.0000e+00,\n",
      "         0.0000e+00, 0.0000e+00, 0.0000e+00, 0.0000e+00, 0.0000e+00, 0.0000e+00,\n",
      "         0.0000e+00, 0.0000e+00, 0.0000e+00],\n",
      "        [5.3948e+01, 1.0072e+05, 7.7302e+04, 3.6786e+04, 2.0761e+04, 2.5191e+03,\n",
      "         2.1640e+03, 4.4430e+01, 2.0527e+01, 4.4161e+01, 3.8347e+01, 2.0484e+01,\n",
      "         1.3587e+01, 6.5584e+01, 3.5529e+02, 6.9370e+01, 1.1715e+01, 2.4040e+00,\n",
      "         5.7455e+01, 5.6711e+01, 4.0746e+01, 7.9104e+00, 2.6156e+00, 8.8114e-01,\n",
      "         2.1572e+00, 2.1587e-01, 1.3417e-01, 3.6497e-01, 5.8147e-02, 1.4581e-02,\n",
      "         8.9202e-02, 1.2325e+00, 1.2485e+00, 8.2374e-01, 1.7133e-01, 2.2953e+00,\n",
      "         2.7054e-01, 5.2999e+00, 4.6558e+00, 8.7947e+00, 1.8708e+01, 8.4056e-01,\n",
      "         3.1916e+00, 3.6250e-01, 1.6931e-01, 5.1773e-01, 1.0246e+00, 3.5193e-01,\n",
      "         7.1398e-01, 5.4746e-01, 2.2593e-01, 1.4139e+00, 3.6423e-01, 1.5477e-01,\n",
      "         6.9995e-02, 2.5057e-02, 2.8396e-02, 2.1932e-01, 8.8405e-02, 1.3941e-03,\n",
      "         2.8228e-03, 1.2226e-03, 3.8591e-04, 1.9259e-04, 6.0470e-05, 1.8128e-05,\n",
      "         1.2497e-05, 8.5035e-06, 5.2090e-05, 1.4736e-05, 1.8193e-05, 1.0340e-05,\n",
      "         6.1749e-06, 6.6566e-07, 2.7668e-06, 2.0915e-05, 9.4121e-06, 3.5085e-06,\n",
      "         5.0246e-06, 2.8720e-06, 1.2922e-06, 2.3009e-06, 5.5452e-07, 7.2487e-07,\n",
      "         6.1722e-06, 2.7769e-06, 1.1213e-06, 4.1993e-06, 6.6880e-06, 8.6374e-06,\n",
      "         2.7636e-06, 1.6062e-05, 1.1688e-06, 3.0951e-06, 1.0770e-05, 2.0202e-07,\n",
      "         9.0349e-07, 1.9373e-07, 5.1273e-06, 5.8691e-06, 2.1213e-05, 7.8336e-06,\n",
      "         9.7597e-07, 7.6104e-07, 3.8165e-06, 8.7337e-06, 5.9339e-06, 4.0527e-06,\n",
      "         3.9986e-06, 1.3119e-06, 1.2935e-06, 2.3397e-06, 1.0277e-07, 5.3775e-07,\n",
      "         3.1811e-08, 3.6803e-06, 6.9802e-06, 4.5449e-06, 2.1394e-06, 1.0858e-06,\n",
      "         8.1419e-07, 2.0962e-07, 2.5898e-06, 4.5523e-06, 2.1309e-06, 5.6508e-06,\n",
      "         1.6806e-05, 7.4683e-06, 2.3793e-07]])\n"
     ]
    }
   ],
   "source": [
    "# Initialize the spectrogram dataset\n",
    "init_(spectrogram)\n",
    "\n",
    "# Get the number of timesteps in the spectrogram dataset\n",
    "dataset_size = len_()\n",
    "\n",
    "# Create a random sample of 4 timesteps from the spectrogram dataset\n",
    "sample_size = 4\n",
    "sample_indices = np.random.choice(dataset_size, sample_size, replace=False)\n",
    "\n",
    "# Create an empty list to store batch frame items from the spectrogram\n",
    "batch = []\n",
    "\n",
    "# Use a for loop to get all batch frame items\n",
    "for i in sample_indices:\n",
    "    batch.append(getitem_(i))\n",
    "    \n",
    "# Collate the list of batch items into a usable form\n",
    "batch = collate_fn_(batch)\n",
    "print(batch)"
   ]
  },
  {
   "cell_type": "markdown",
   "metadata": {},
   "source": [
    "Example of how to create a dataset class using init, len, getitem and collate."
   ]
  },
  {
   "cell_type": "code",
   "execution_count": 8,
   "metadata": {},
   "outputs": [],
   "source": [
    "class ExampleDataset(torch.utils.data.Dataset):\n",
    "    \n",
    "    def __init__(self, spectrogram):\n",
    "        \n",
    "        ### Code to be executed once at the beginning for initialization\n",
    "        self.spectrogram = spectrogram\n",
    "        self.length = len(spectrogram)\n",
    "        \n",
    "    def __len__(self):\n",
    "        \n",
    "        ### Return the number of items as length\n",
    "        return self.length\n",
    "    \n",
    "    def __getitem__(self, i):\n",
    "        \n",
    "        ### Return one item at index i\n",
    "        frame = self.spectrogram[i]\n",
    "        \n",
    "        return frame\n",
    "    \n",
    "    def collate_fn(batch):\n",
    "        \n",
    "        ### Specify how to collate list of items and what to return\n",
    "        batch = torch.as_tensor(batch)\n",
    "\n",
    "        return batch\n",
    "        \n",
    "    \n",
    "dataset = ExampleDataset(spectrogram)"
   ]
  },
  {
   "cell_type": "markdown",
   "metadata": {},
   "source": [
    "Example of how to use the dataset class and create a batch of size 4."
   ]
  },
  {
   "cell_type": "code",
   "execution_count": 9,
   "metadata": {},
   "outputs": [
    {
     "name": "stdout",
     "output_type": "stream",
     "text": [
      "tensor([[0.0000e+00, 0.0000e+00, 0.0000e+00, 0.0000e+00, 0.0000e+00, 0.0000e+00,\n",
      "         0.0000e+00, 0.0000e+00, 0.0000e+00, 0.0000e+00, 0.0000e+00, 0.0000e+00,\n",
      "         0.0000e+00, 0.0000e+00, 0.0000e+00, 0.0000e+00, 0.0000e+00, 0.0000e+00,\n",
      "         0.0000e+00, 0.0000e+00, 0.0000e+00, 0.0000e+00, 0.0000e+00, 0.0000e+00,\n",
      "         0.0000e+00, 0.0000e+00, 0.0000e+00, 0.0000e+00, 0.0000e+00, 0.0000e+00,\n",
      "         0.0000e+00, 0.0000e+00, 0.0000e+00, 0.0000e+00, 0.0000e+00, 0.0000e+00,\n",
      "         0.0000e+00, 0.0000e+00, 0.0000e+00, 0.0000e+00, 0.0000e+00, 0.0000e+00,\n",
      "         0.0000e+00, 0.0000e+00, 0.0000e+00, 0.0000e+00, 0.0000e+00, 0.0000e+00,\n",
      "         0.0000e+00, 0.0000e+00, 0.0000e+00, 0.0000e+00, 0.0000e+00, 0.0000e+00,\n",
      "         0.0000e+00, 0.0000e+00, 0.0000e+00, 0.0000e+00, 0.0000e+00, 0.0000e+00,\n",
      "         0.0000e+00, 0.0000e+00, 0.0000e+00, 0.0000e+00, 0.0000e+00, 0.0000e+00,\n",
      "         0.0000e+00, 0.0000e+00, 0.0000e+00, 0.0000e+00, 0.0000e+00, 0.0000e+00,\n",
      "         0.0000e+00, 0.0000e+00, 0.0000e+00, 0.0000e+00, 0.0000e+00, 0.0000e+00,\n",
      "         0.0000e+00, 0.0000e+00, 0.0000e+00, 0.0000e+00, 0.0000e+00, 0.0000e+00,\n",
      "         0.0000e+00, 0.0000e+00, 0.0000e+00, 0.0000e+00, 0.0000e+00, 0.0000e+00,\n",
      "         0.0000e+00, 0.0000e+00, 0.0000e+00, 0.0000e+00, 0.0000e+00, 0.0000e+00,\n",
      "         0.0000e+00, 0.0000e+00, 0.0000e+00, 0.0000e+00, 0.0000e+00, 0.0000e+00,\n",
      "         0.0000e+00, 0.0000e+00, 0.0000e+00, 0.0000e+00, 0.0000e+00, 0.0000e+00,\n",
      "         0.0000e+00, 0.0000e+00, 0.0000e+00, 0.0000e+00, 0.0000e+00, 0.0000e+00,\n",
      "         0.0000e+00, 0.0000e+00, 0.0000e+00, 0.0000e+00, 0.0000e+00, 0.0000e+00,\n",
      "         0.0000e+00, 0.0000e+00, 0.0000e+00, 0.0000e+00, 0.0000e+00, 0.0000e+00,\n",
      "         0.0000e+00, 0.0000e+00, 0.0000e+00],\n",
      "        [1.0251e-01, 2.5795e+04, 1.9534e+04, 1.7174e+04, 1.2174e+04, 8.6689e+03,\n",
      "         4.3030e+03, 1.3382e+03, 4.4342e+02, 1.7629e+01, 9.6367e+01, 1.5059e+02,\n",
      "         5.4352e+01, 7.0410e+01, 1.5446e+01, 3.8949e+00, 1.8683e+00, 2.3139e+00,\n",
      "         8.5216e-01, 1.7954e+00, 8.1211e-01, 2.8312e-02, 9.2344e-02, 2.0163e-02,\n",
      "         7.2144e-02, 3.8403e-02, 1.6631e-02, 1.2180e-02, 2.1383e-02, 6.9272e-02,\n",
      "         2.5815e-02, 2.1618e+00, 4.5926e+00, 1.8951e+00, 3.9359e-02, 9.1523e-02,\n",
      "         1.3229e+00, 2.7891e+00, 1.3536e+00, 3.4019e-01, 2.1807e+00, 4.0822e-01,\n",
      "         1.2355e-01, 1.7359e-02, 2.0825e-02, 4.0171e-02, 5.5579e-03, 3.7371e-01,\n",
      "         5.4522e-01, 2.0230e-01, 2.5676e-03, 2.2890e-02, 3.8382e-02, 1.1641e-01,\n",
      "         6.3060e-02, 1.8989e-04, 5.4548e-04, 2.4200e-04, 3.7659e-04, 3.6430e-04,\n",
      "         1.8489e-04, 1.1082e-04, 6.8094e-05, 5.1883e-05, 3.8475e-05, 2.9453e-05,\n",
      "         1.7265e-05, 1.6319e-05, 9.9671e-06, 8.5983e-06, 2.2844e-05, 2.6935e-05,\n",
      "         3.9634e-05, 1.3495e-05, 5.9742e-06, 7.3343e-06, 2.0213e-06, 1.0675e-06,\n",
      "         1.2612e-05, 2.2327e-05, 6.0316e-06, 9.6404e-06, 7.4812e-06, 1.0558e-06,\n",
      "         3.4691e-06, 1.0534e-05, 3.5166e-05, 9.5041e-06, 8.1891e-06, 8.0536e-06,\n",
      "         9.7965e-06, 2.3212e-06, 1.2105e-06, 5.8354e-06, 3.9900e-06, 4.7629e-06,\n",
      "         3.4057e-06, 7.2397e-06, 4.3569e-07, 2.4848e-06, 3.0975e-06, 1.2772e-06,\n",
      "         9.9706e-07, 7.6471e-06, 1.3964e-06, 2.5681e-06, 1.5445e-06, 1.8963e-06,\n",
      "         1.7056e-06, 2.0781e-06, 4.2556e-07, 1.7886e-07, 2.8112e-06, 4.3842e-07,\n",
      "         3.4196e-06, 1.0270e-05, 6.0720e-07, 9.5089e-06, 3.1254e-06, 3.7843e-06,\n",
      "         5.9692e-06, 5.8629e-06, 3.5133e-06, 6.5812e-07, 1.7219e-07, 6.1525e-06,\n",
      "         1.6543e-06, 1.8472e-07, 8.8603e-07],\n",
      "        [1.6035e+02, 3.4550e+04, 1.5340e+04, 1.1432e+04, 9.8687e+03, 2.7015e+03,\n",
      "         1.3811e+03, 1.5970e+03, 8.1217e+02, 3.6233e+02, 1.2746e+02, 3.1087e+02,\n",
      "         2.7361e+01, 1.9985e+00, 3.7445e+00, 2.4556e+00, 1.8059e+00, 3.0635e-01,\n",
      "         5.7313e-01, 1.5288e-03, 1.5919e-01, 3.0676e-04, 5.0925e-03, 3.0267e-02,\n",
      "         2.7491e-02, 7.7390e-03, 2.7850e-02, 5.6025e-02, 9.0297e-02, 1.4782e+00,\n",
      "         4.0102e+00, 4.4606e+00, 3.9860e+00, 5.3934e+00, 2.5859e+00, 1.4250e-01,\n",
      "         3.6649e-01, 2.5990e-01, 1.1827e+00, 1.8809e+00, 6.1924e-01, 4.1156e-01,\n",
      "         1.7259e-02, 1.1168e-02, 3.7607e-02, 7.8811e-02, 4.0000e-01, 1.3442e+00,\n",
      "         8.1735e-01, 4.4541e-01, 7.2036e-02, 6.7349e-01, 5.0406e-01, 4.7429e-01,\n",
      "         2.4540e-03, 2.4898e-02, 6.5066e-03, 2.5435e-03, 9.6872e-04, 2.1753e-04,\n",
      "         1.2649e-05, 3.0400e-05, 5.3939e-05, 9.0841e-05, 5.4498e-05, 2.7656e-05,\n",
      "         1.3623e-06, 2.4662e-06, 1.0027e-05, 8.5838e-06, 1.9962e-05, 1.8651e-05,\n",
      "         2.7641e-05, 1.1242e-05, 8.0281e-07, 1.5155e-06, 7.0791e-07, 2.7477e-07,\n",
      "         2.6902e-06, 1.8622e-05, 1.0280e-05, 8.5812e-06, 2.4357e-06, 6.9506e-07,\n",
      "         1.3491e-06, 8.2735e-07, 4.6702e-07, 8.8941e-06, 1.6161e-06, 1.2080e-05,\n",
      "         4.5801e-06, 4.6481e-06, 3.1391e-08, 1.0184e-06, 1.5419e-06, 2.3527e-06,\n",
      "         1.2124e-05, 2.9878e-06, 3.3647e-06, 2.1823e-06, 1.7622e-05, 6.8777e-06,\n",
      "         1.5200e-05, 9.9269e-07, 1.1243e-05, 2.7277e-06, 8.6057e-06, 3.9310e-06,\n",
      "         6.7095e-06, 8.3480e-06, 7.1159e-06, 3.2645e-06, 3.6698e-06, 1.0006e-05,\n",
      "         6.9928e-06, 4.8192e-06, 2.1121e-06, 3.0387e-06, 5.2976e-07, 1.5529e-06,\n",
      "         9.2375e-06, 2.3397e-06, 6.1867e-07, 2.7474e-06, 1.1409e-06, 6.1802e-06,\n",
      "         2.7281e-06, 1.4348e-07, 3.4848e-06],\n",
      "        [1.1090e+03, 1.3083e+04, 5.3541e+03, 7.5273e+03, 2.0303e+04, 1.7154e+04,\n",
      "         6.4078e+03, 8.1517e+02, 2.5892e+01, 1.0366e+01, 7.3114e+01, 1.7393e+02,\n",
      "         8.8832e+01, 9.3040e+00, 1.3375e-01, 4.8361e-01, 3.0908e-01, 7.4616e-01,\n",
      "         3.6412e+00, 1.1398e+00, 6.1586e-02, 1.8002e-02, 5.1686e-02, 3.7705e-03,\n",
      "         3.8812e-02, 2.1664e-02, 2.9204e-03, 1.5292e-02, 3.9036e-02, 1.7181e-01,\n",
      "         5.8782e-01, 1.0535e+00, 5.3316e+00, 2.5673e-01, 7.4470e-01, 6.7635e-01,\n",
      "         1.5326e-01, 2.9967e+00, 6.0529e-01, 3.5944e+00, 1.2096e+00, 1.3790e-01,\n",
      "         8.2397e-02, 7.3150e-03, 8.8966e-04, 2.8070e-02, 2.4527e-02, 2.1155e-01,\n",
      "         4.0450e-01, 2.4122e-01, 1.0432e-02, 2.0551e-03, 1.0505e-01, 1.0869e-01,\n",
      "         8.5262e-02, 1.6812e-03, 1.0316e-03, 1.2688e-03, 1.2082e-03, 6.7005e-04,\n",
      "         1.4936e-04, 3.5947e-05, 1.2728e-05, 5.1565e-06, 1.3964e-05, 3.8552e-06,\n",
      "         1.2290e-05, 1.0062e-05, 1.7338e-05, 1.5539e-05, 6.6816e-06, 4.5666e-06,\n",
      "         1.2352e-05, 4.4109e-06, 4.5510e-06, 1.0220e-05, 9.5478e-06, 1.8616e-05,\n",
      "         5.5503e-06, 7.6731e-07, 7.4555e-06, 3.0012e-06, 1.2144e-05, 5.5750e-06,\n",
      "         6.4542e-06, 4.0233e-06, 2.8055e-06, 4.1338e-07, 2.2169e-07, 1.8176e-06,\n",
      "         3.4878e-06, 3.0609e-06, 1.3001e-05, 2.6185e-06, 3.6716e-06, 1.1367e-07,\n",
      "         3.0359e-06, 5.7754e-06, 9.7230e-06, 5.5474e-06, 3.1983e-07, 5.6085e-06,\n",
      "         2.2293e-06, 1.0172e-06, 4.8578e-07, 3.1418e-06, 4.4417e-08, 8.9706e-08,\n",
      "         6.9158e-06, 8.5655e-07, 9.6722e-07, 1.6811e-05, 1.5854e-06, 1.1798e-05,\n",
      "         1.8291e-06, 1.1923e-06, 9.7220e-07, 1.6385e-06, 1.2714e-07, 4.4137e-06,\n",
      "         1.7987e-06, 1.5795e-08, 5.5830e-06, 1.8113e-06, 1.8651e-06, 6.0041e-06,\n",
      "         7.7999e-06, 7.9763e-06, 6.3418e-06]])\n"
     ]
    }
   ],
   "source": [
    "# Instantiate the dataset class object\n",
    "dataset = ExampleDataset(spectrogram)\n",
    "\n",
    "# Create a random sample of 4 indecies from the dataset\n",
    "sample_size = 4\n",
    "sample_indices = np.random.choice(len(dataset), sample_size, replace=False)\n",
    "\n",
    "# Create an empty list to store batch items from the dataset\n",
    "batch = []\n",
    "\n",
    "# Use a for loop to get all batch items\n",
    "for i in sample_indices:\n",
    "    batch.append(dataset[i])\n",
    "    \n",
    "# Collate the batch items into a usable form\n",
    "batch = ExampleDataset.collate_fn(batch)\n",
    "print(batch)"
   ]
  },
  {
   "cell_type": "markdown",
   "metadata": {},
   "source": [
    "Note: The example provided does not take advantage of \"multithreading\". When a dataset class is combined with a data loader class, you are able to use multithreading and dramatically increase your data loading performance. The data loader class is covered in a future tutorial of this series."
   ]
  },
  {
   "cell_type": "code",
   "execution_count": null,
   "metadata": {},
   "outputs": [],
   "source": []
  }
 ],
 "metadata": {
  "kernelspec": {
   "display_name": "PyTorch 3.6",
   "language": "python",
   "name": "pytorch_p36"
  },
  "language_info": {
   "codemirror_mode": {
    "name": "ipython",
    "version": 3
   },
   "file_extension": ".py",
   "mimetype": "text/x-python",
   "name": "python",
   "nbconvert_exporter": "python",
   "pygments_lexer": "ipython3",
   "version": "3.6.10"
  }
 },
 "nbformat": 4,
 "nbformat_minor": 4
}
