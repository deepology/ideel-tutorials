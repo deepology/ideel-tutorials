{
 "cells": [
  {
   "cell_type": "markdown",
   "metadata": {},
   "source": [
    "Old Documentation:\n",
    "\n",
    "- [`import`](https://docs.python.org/3/reference/simple_stmts.html#the-import-statement)\n",
    "- [`len`](https://docs.python.org/3/library/functions.html#len)\n",
    "- [`numpy`](https://numpy.org/doc/1.19/user/whatisnumpy.html)\n",
    "- [`numpy.array`](https://numpy.org/doc/stable/reference/generated/numpy.array.html)\n",
    "- [numpy indexing](https://numpy.org/doc/stable/reference/arrays.indexing.html)\n",
    "- [`torch`](https://pytorch.org/docs/stable/index.html)\n",
    "- [`torch.Tensor`](https://pytorch.org/docs/stable/tensors.html#torch.Tensor)\n",
    "- [`torch.utils.data`](https://pytorch.org/docs/stable/data.html#torch.utils.data)\n",
    "- [`torch.utils.data.Dataset`](https://pytorch.org/docs/stable/data.html#torch.utils.data.Dataset)"
   ]
  },
  {
   "cell_type": "markdown",
   "metadata": {},
   "source": [
    "Import the numpy and pytorch (torch) modules."
   ]
  },
  {
   "cell_type": "code",
   "execution_count": 1,
   "metadata": {},
   "outputs": [],
   "source": [
    "import numpy as np\n",
    "import torch"
   ]
  },
  {
   "cell_type": "markdown",
   "metadata": {},
   "source": [
    "Create the sample dataset to be used in this notebook."
   ]
  },
  {
   "cell_type": "code",
   "execution_count": 2,
   "metadata": {},
   "outputs": [],
   "source": [
    "spectrograms = np.load(\"./samples/spectrograms/linear/all_spectrograms.npy\", allow_pickle=True)"
   ]
  },
  {
   "cell_type": "markdown",
   "metadata": {},
   "source": [
    "**Step 1:** Code to be executed once at the beginning for initialization"
   ]
  },
  {
   "cell_type": "code",
   "execution_count": 3,
   "metadata": {},
   "outputs": [],
   "source": [
    "def init_(spectrograms, context=1, offset=1):\n",
    "    \n",
    "    # Create a global variable of with the spectrogram to be accessed in other functions\n",
    "    global global_spectrograms\n",
    "    global_spectrograms = spectrograms\n",
    "    \n",
    "    # Create a global variable to store the list of all (recording, timestep) index pairs.\n",
    "    global global_index_map\n",
    "    global_index_map = []\n",
    "    \n",
    "    # Use two for loops to create a list of all (recording, timestep) index pairs.\n",
    "    for i, spectrogram in enumerate(spectrograms):\n",
    "        for j, frame in enumerate(spectrogram):\n",
    "            index_pair = (i, j)\n",
    "            global_index_map.append(index_pair)\n",
    "    \n",
    "    # Create a global variable of the number of timesteps to be accessed in other functions\n",
    "    global global_length\n",
    "    global_length = len(global_index_map)\n",
    "\n",
    "    # Create a global variable to store the context and offset constants\n",
    "    global global_context, global_offset\n",
    "    global_context = context\n",
    "    global_offset = offset\n",
    "\n",
    "    # Pad the rows of the spectrogram with zeros up to the offset count\n",
    "    for i, spectrogram in enumerate(global_spectrograms):\n",
    "        global_spectrograms[i] = np.pad(spectrogram, ((offset, offset), (0, 0)), 'constant', constant_values=0)\n",
    "        \n",
    "    return None"
   ]
  },
  {
   "cell_type": "markdown",
   "metadata": {},
   "source": [
    "**Step 2:** Code to return the number of items as length"
   ]
  },
  {
   "cell_type": "code",
   "execution_count": 4,
   "metadata": {},
   "outputs": [],
   "source": [
    "def len_():\n",
    "    \n",
    "    # Return the global variable of the number of timesteps in the spectrogram\n",
    "    return global_length"
   ]
  },
  {
   "cell_type": "markdown",
   "metadata": {},
   "source": [
    "**Step 3:** Code to return the x item at sample i, row j"
   ]
  },
  {
   "cell_type": "code",
   "execution_count": 5,
   "metadata": {},
   "outputs": [],
   "source": [
    "def getitem_(index):\n",
    "    \n",
    "    # Get the recording index i and timestep index j that corresponds to the pair index\n",
    "    i, j = global_index_map[index]\n",
    "    \n",
    "    # Define the starting timestep j, the context before the offset index\n",
    "    start_j = j + global_offset - global_context\n",
    "    \n",
    "    # Define the ending timestep j, the context after the offset index\n",
    "    end_j = j + global_offset + global_context + 1\n",
    "\n",
    "    # Index the global spectrogram variable using the recording index i\n",
    "    # and starting to ending timestep index j\n",
    "    frame = global_spectrograms[i][start_j:end_j,:]\n",
    "    \n",
    "    return frame"
   ]
  },
  {
   "cell_type": "markdown",
   "metadata": {},
   "source": [
    "**Step 4:** Code to return the collated list of items"
   ]
  },
  {
   "cell_type": "code",
   "execution_count": 6,
   "metadata": {},
   "outputs": [],
   "source": [
    "def collate_fn_(batch):\n",
    "    \n",
    "    # Index the global variable X at input index i    \n",
    "    batch = torch.as_tensor(batch)\n",
    "    \n",
    "    return batch"
   ]
  },
  {
   "cell_type": "markdown",
   "metadata": {},
   "source": [
    "Example of how to use init, len, getitem, and collate as functions. Here, we create a batch of size 4."
   ]
  },
  {
   "cell_type": "code",
   "execution_count": 7,
   "metadata": {},
   "outputs": [
    {
     "name": "stdout",
     "output_type": "stream",
     "text": [
      "tensor([[[0.0000e+00, 0.0000e+00, 0.0000e+00,  ..., 0.0000e+00,\n",
      "          0.0000e+00, 0.0000e+00],\n",
      "         [0.0000e+00, 0.0000e+00, 0.0000e+00,  ..., 0.0000e+00,\n",
      "          0.0000e+00, 0.0000e+00],\n",
      "         [0.0000e+00, 0.0000e+00, 0.0000e+00,  ..., 0.0000e+00,\n",
      "          0.0000e+00, 0.0000e+00]],\n",
      "\n",
      "        [[3.2268e+02, 4.3661e+04, 1.7674e+04,  ..., 2.7543e-06,\n",
      "          3.0378e-06, 8.6879e-07],\n",
      "         [2.4187e+01, 1.2747e+02, 1.9110e+03,  ..., 3.9466e-06,\n",
      "          6.3780e-07, 1.1193e-06],\n",
      "         [5.8242e+01, 5.6835e+04, 1.8151e+04,  ..., 7.4317e-06,\n",
      "          9.9780e-07, 4.1536e-07]],\n",
      "\n",
      "        [[2.8550e+03, 8.1467e+04, 9.7023e+04,  ..., 1.1094e-06,\n",
      "          9.0991e-08, 2.2578e-07],\n",
      "         [1.6067e+03, 4.0628e+04, 1.6067e+05,  ..., 7.1759e-06,\n",
      "          5.2577e-06, 1.6352e-06],\n",
      "         [2.4057e+03, 7.4253e+04, 1.8195e+05,  ..., 1.9458e-06,\n",
      "          3.4607e-06, 3.0998e-06]],\n",
      "\n",
      "        [[1.3197e+02, 7.3687e+03, 1.7180e+02,  ..., 1.3143e-06,\n",
      "          2.1910e-06, 1.6466e-06],\n",
      "         [3.9267e+02, 5.3359e+03, 1.2115e+03,  ..., 1.6297e-06,\n",
      "          1.7058e-06, 6.1403e-06],\n",
      "         [6.5846e+00, 1.6055e+03, 6.9270e+01,  ..., 3.4085e-06,\n",
      "          1.6592e-06, 2.3908e-07]]])\n"
     ]
    }
   ],
   "source": [
    "# Initialize the spectrogram dataset\n",
    "init_(spectrograms)\n",
    "\n",
    "# Get the number of timesteps in the spectrogram dataset\n",
    "dataset_size = len_()\n",
    "\n",
    "# Create a random sample of 4 timesteps from the spectrogram dataset\n",
    "sample_size = 4\n",
    "sample_indices = np.random.choice(dataset_size, sample_size, replace=False)\n",
    "\n",
    "# Create an empty list to store batch frame items from the spectrogram\n",
    "batch = []\n",
    "\n",
    "# Use a for loop to get all batch frame items\n",
    "for i in sample_indices:\n",
    "    batch.append(getitem_(i))\n",
    "    \n",
    "# Collate the list of batch items into a usable form\n",
    "batch = collate_fn_(batch)\n",
    "print(batch)"
   ]
  },
  {
   "cell_type": "markdown",
   "metadata": {},
   "source": [
    "Example of how to create a Dataset class using init, len, getitem and collate "
   ]
  },
  {
   "cell_type": "code",
   "execution_count": 8,
   "metadata": {},
   "outputs": [],
   "source": [
    "class ExampleDataset(torch.utils.data.Dataset):\n",
    "    \n",
    "    def __init__(self, spectrograms, context=1, offset=1):\n",
    "        \n",
    "        ### Code to be executed once at the beginning for initialization\n",
    "        self.spectrograms = spectrograms\n",
    "        \n",
    "        self.index_map = []\n",
    "        for i, spectrogram in enumerate(spectrograms):\n",
    "            for j, frame in enumerate(spectrogram):\n",
    "                index_pair = (i, j)\n",
    "                self.index_map.append(index_pair)\n",
    "        \n",
    "        self.length = len(self.index_map)\n",
    "        \n",
    "        self.context = context\n",
    "        self.offset = offset\n",
    "\n",
    "        for i, spectrogram in enumerate(self.spectrograms):\n",
    "            self.spectrograms[i] = np.pad(spectrogram, ((offset, offset), (0, 0)), 'constant', constant_values=0)\n",
    "        \n",
    "    def __len__(self):\n",
    "        \n",
    "        ### Return the number of items as length\n",
    "        return self.length\n",
    "    \n",
    "    def __getitem__(self, index):\n",
    "        \n",
    "        ### Return one item at recording i, timestep j\n",
    "        i, j = self.index_map[index]\n",
    "        start_j = j + self.offset - self.context\n",
    "        end_j = j + self.offset + self.context + 1\n",
    "        \n",
    "        frame = self.spectrograms[i][start_j:end_j,:]\n",
    "\n",
    "        return frame\n",
    "    \n",
    "    def collate_fn(batch):\n",
    "        \n",
    "        ### Specify how to collate list of items and what to return\n",
    "        batch = torch.as_tensor(batch)\n",
    "\n",
    "        return batch"
   ]
  },
  {
   "cell_type": "markdown",
   "metadata": {},
   "source": [
    "Example of how to use the dataset class and create a batch of size 4."
   ]
  },
  {
   "cell_type": "code",
   "execution_count": 9,
   "metadata": {},
   "outputs": [
    {
     "name": "stdout",
     "output_type": "stream",
     "text": [
      "tensor([[[0.0000e+00, 0.0000e+00, 0.0000e+00,  ..., 0.0000e+00,\n",
      "          0.0000e+00, 0.0000e+00],\n",
      "         [0.0000e+00, 0.0000e+00, 0.0000e+00,  ..., 0.0000e+00,\n",
      "          0.0000e+00, 0.0000e+00],\n",
      "         [0.0000e+00, 0.0000e+00, 0.0000e+00,  ..., 0.0000e+00,\n",
      "          0.0000e+00, 0.0000e+00]],\n",
      "\n",
      "        [[0.0000e+00, 0.0000e+00, 0.0000e+00,  ..., 0.0000e+00,\n",
      "          0.0000e+00, 0.0000e+00],\n",
      "         [0.0000e+00, 0.0000e+00, 0.0000e+00,  ..., 0.0000e+00,\n",
      "          0.0000e+00, 0.0000e+00],\n",
      "         [0.0000e+00, 0.0000e+00, 0.0000e+00,  ..., 0.0000e+00,\n",
      "          0.0000e+00, 0.0000e+00]],\n",
      "\n",
      "        [[5.8258e+02, 1.6939e+04, 6.9623e+03,  ..., 5.2513e-06,\n",
      "          5.8987e-06, 2.9768e-06],\n",
      "         [5.8780e+01, 2.2252e+03, 1.6570e+02,  ..., 4.8436e-06,\n",
      "          1.6173e-06, 5.5990e-06],\n",
      "         [5.7678e+01, 4.2533e+04, 5.6048e+03,  ..., 2.7793e-06,\n",
      "          3.9248e-06, 5.1910e-09]],\n",
      "\n",
      "        [[2.5576e-02, 1.1699e+03, 1.2236e+02,  ..., 4.5625e-07,\n",
      "          1.9338e-06, 3.2101e-07],\n",
      "         [1.7522e-01, 1.3381e+04, 6.9727e+03,  ..., 3.3418e-06,\n",
      "          4.5132e-06, 8.4278e-06],\n",
      "         [9.7237e+01, 6.4724e+03, 2.1777e+03,  ..., 3.7352e-06,\n",
      "          5.5069e-06, 2.1319e-07]]])\n"
     ]
    }
   ],
   "source": [
    "# Instantiate the dataset class object\n",
    "dataset = ExampleDataset(spectrograms)\n",
    "\n",
    "# Create a random sample of 4 indecies from the dataset\n",
    "sample_size = 4\n",
    "sample_indices = np.random.choice(len(dataset), sample_size, replace=False)\n",
    "\n",
    "# Create an empty list to store batch items from the dataset\n",
    "batch = []\n",
    "\n",
    "# Use a for loop to get all batch items\n",
    "for i in sample_indices:\n",
    "    batch.append(dataset[i])\n",
    "    \n",
    "# Collate the batch items into a usable form\n",
    "batch = ExampleDataset.collate_fn(batch)\n",
    "print(batch)"
   ]
  },
  {
   "cell_type": "markdown",
   "metadata": {},
   "source": [
    "Note: The example provided does not take advantage of \"multithreading\". When a dataset class is combined with a data loader class, you are able to use multithreading and dramatically increase your data loading performance. The data loader class is covered in a future tutorial of this series."
   ]
  },
  {
   "cell_type": "code",
   "execution_count": null,
   "metadata": {},
   "outputs": [],
   "source": []
  }
 ],
 "metadata": {
  "kernelspec": {
   "display_name": "PyTorch 3.6",
   "language": "python",
   "name": "pytorch_p36"
  },
  "language_info": {
   "codemirror_mode": {
    "name": "ipython",
    "version": 3
   },
   "file_extension": ".py",
   "mimetype": "text/x-python",
   "name": "python",
   "nbconvert_exporter": "python",
   "pygments_lexer": "ipython3",
   "version": "3.6.10"
  }
 },
 "nbformat": 4,
 "nbformat_minor": 4
}
