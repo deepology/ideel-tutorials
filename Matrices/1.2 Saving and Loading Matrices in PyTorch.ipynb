{
 "cells": [
  {
   "cell_type": "markdown",
   "metadata": {},
   "source": [
    "Old Documentation\n",
    "\n",
    "- [`whos`](https://ipython.readthedocs.io/en/stable/interactive/magics.html#magic-whos)\n",
    "- [`import`](https://docs.python.org/3/reference/simple_stmts.html#the-import-statement)\n",
    "- [`module`](https://docs.python.org/3/tutorial/modules.html)\n",
    "- [`del`](https://docs.python.org/3/reference/simple_stmts.html#the-del-statement)\n",
    "- [`print`](https://docs.python.org/3/library/functions.html#print)\n",
    "\n",
    "New Documetation\n",
    "- [`torch`](https://pytorch.org/docs/stable/index.html)\n",
    "- [`torch.Tensor`](https://pytorch.org/docs/stable/tensors.html#torch.Tensor)\n",
    "- [`torch.save`](https://pytorch.org/docs/stable/generated/torch.save.html)\n",
    "- [`torch.load`](https://pytorch.org/docs/stable/generated/torch.load.html)"
   ]
  },
  {
   "cell_type": "markdown",
   "metadata": {},
   "source": [
    "Print the current variables stored in this environment."
   ]
  },
  {
   "cell_type": "code",
   "execution_count": 1,
   "metadata": {},
   "outputs": [
    {
     "name": "stdout",
     "output_type": "stream",
     "text": [
      "Interactive namespace is empty.\n"
     ]
    }
   ],
   "source": [
    "%whos"
   ]
  },
  {
   "cell_type": "markdown",
   "metadata": {},
   "source": [
    "Import the numpy module."
   ]
  },
  {
   "cell_type": "code",
   "execution_count": 2,
   "metadata": {},
   "outputs": [],
   "source": [
    "import torch"
   ]
  },
  {
   "cell_type": "code",
   "execution_count": 3,
   "metadata": {},
   "outputs": [
    {
     "name": "stdout",
     "output_type": "stream",
     "text": [
      "Variable   Type      Data/Info\n",
      "------------------------------\n",
      "torch      module    <module 'torch' from '/ho<...>kages/torch/__init__.py'>\n"
     ]
    }
   ],
   "source": [
    "%whos"
   ]
  },
  {
   "cell_type": "markdown",
   "metadata": {},
   "source": [
    "---\n",
    "Create matrix $A$ as a torch tensor.\n",
    "\n",
    "$A = \n",
    "    \\begin{bmatrix}\n",
    "        3.4 & 5.4 & 2.9 & 7.3 & 2.0 & 9.0 \\\\\n",
    "        5.7 & 5.2 & 2.2 & 8.0 & 4.0 & 6.5 \\\\\n",
    "        1.6 & 7.5 & 2.7 & 0.8 & 0.3 & 0.3 \\\\\n",
    "        1.6 & 4.7 & 4.4 & 3.7 & 6.8 & 7.1\n",
    "    \\end{bmatrix} $\n",
    "    "
   ]
  },
  {
   "cell_type": "code",
   "execution_count": 5,
   "metadata": {},
   "outputs": [],
   "source": [
    "A = torch.Tensor([[3.4, 5.4, 2.9, 7.3, 2.0, 9.0],\n",
    "                  [5.7, 5.2, 2.2, 8.0, 4.0, 6.5],\n",
    "                  [1.6, 7.5, 2.7, 0.8, 0.3, 0.3],\n",
    "                  [1.6, 4.7, 4.4, 3.7, 6.8, 7.1]])"
   ]
  },
  {
   "cell_type": "code",
   "execution_count": 7,
   "metadata": {},
   "outputs": [
    {
     "name": "stdout",
     "output_type": "stream",
     "text": [
      "tensor([[3.4000, 5.4000, 2.9000, 7.3000, 2.0000, 9.0000],\n",
      "        [5.7000, 5.2000, 2.2000, 8.0000, 4.0000, 6.5000],\n",
      "        [1.6000, 7.5000, 2.7000, 0.8000, 0.3000, 0.3000],\n",
      "        [1.6000, 4.7000, 4.4000, 3.7000, 6.8000, 7.1000]])\n"
     ]
    }
   ],
   "source": [
    "print(A)"
   ]
  },
  {
   "cell_type": "code",
   "execution_count": 6,
   "metadata": {},
   "outputs": [
    {
     "name": "stdout",
     "output_type": "stream",
     "text": [
      "Variable   Type      Data/Info\n",
      "------------------------------\n",
      "A          Tensor    tensor([[3.4000, 5.4000, <...>3.7000, 6.8000, 7.1000]])\n",
      "torch      module    <module 'torch' from '/ho<...>kages/torch/__init__.py'>\n"
     ]
    }
   ],
   "source": [
    "%whos"
   ]
  },
  {
   "cell_type": "markdown",
   "metadata": {},
   "source": [
    "Save matrix $A$ as a pt file."
   ]
  },
  {
   "cell_type": "code",
   "execution_count": 8,
   "metadata": {},
   "outputs": [],
   "source": [
    "torch.save(A, \"A.pt\")"
   ]
  },
  {
   "cell_type": "markdown",
   "metadata": {},
   "source": [
    "Delete local matrix $A$ from environment."
   ]
  },
  {
   "cell_type": "code",
   "execution_count": 9,
   "metadata": {},
   "outputs": [],
   "source": [
    "del A"
   ]
  },
  {
   "cell_type": "code",
   "execution_count": 10,
   "metadata": {},
   "outputs": [
    {
     "name": "stdout",
     "output_type": "stream",
     "text": [
      "Variable   Type      Data/Info\n",
      "------------------------------\n",
      "torch      module    <module 'torch' from '/ho<...>kages/torch/__init__.py'>\n"
     ]
    }
   ],
   "source": [
    "%whos"
   ]
  },
  {
   "cell_type": "markdown",
   "metadata": {},
   "source": [
    "Load previously saved matrix $A$ to environment."
   ]
  },
  {
   "cell_type": "code",
   "execution_count": 11,
   "metadata": {},
   "outputs": [],
   "source": [
    "A = torch.load(\"A.pt\")"
   ]
  },
  {
   "cell_type": "code",
   "execution_count": 12,
   "metadata": {},
   "outputs": [
    {
     "name": "stdout",
     "output_type": "stream",
     "text": [
      "Variable   Type      Data/Info\n",
      "------------------------------\n",
      "A          Tensor    tensor([[3.4000, 5.4000, <...>3.7000, 6.8000, 7.1000]])\n",
      "torch      module    <module 'torch' from '/ho<...>kages/torch/__init__.py'>\n"
     ]
    }
   ],
   "source": [
    "%whos"
   ]
  },
  {
   "cell_type": "code",
   "execution_count": 13,
   "metadata": {},
   "outputs": [
    {
     "name": "stdout",
     "output_type": "stream",
     "text": [
      "tensor([[3.4000, 5.4000, 2.9000, 7.3000, 2.0000, 9.0000],\n",
      "        [5.7000, 5.2000, 2.2000, 8.0000, 4.0000, 6.5000],\n",
      "        [1.6000, 7.5000, 2.7000, 0.8000, 0.3000, 0.3000],\n",
      "        [1.6000, 4.7000, 4.4000, 3.7000, 6.8000, 7.1000]])\n"
     ]
    }
   ],
   "source": [
    "print(A)"
   ]
  },
  {
   "cell_type": "markdown",
   "metadata": {},
   "source": [
    "---\n",
    "Create matrix $B$ as a torch tensor.\n",
    "\n",
    "$B = \n",
    "    \\begin{bmatrix}\n",
    "        4 & 2 & 1 & 2 \\\\\n",
    "        9 & 9 & 6 & 4 \\\\\n",
    "        9 & 5 & 3 & 5 \\\\\n",
    "        7 & 8 & 4 & 7 \\\\\n",
    "        0 & 4 & 1 & 0 \\\\\n",
    "        4 & 5 & 2 & 1\n",
    "    \\end{bmatrix} $"
   ]
  },
  {
   "cell_type": "code",
   "execution_count": 14,
   "metadata": {},
   "outputs": [],
   "source": [
    "B = torch.Tensor([[4, 2, 1, 2],\n",
    "                  [9, 9, 6, 4],\n",
    "                  [9, 5, 3, 5],\n",
    "                  [7, 8, 4, 7],\n",
    "                  [0, 4, 1, 0],\n",
    "                  [4, 5, 2, 1]])"
   ]
  },
  {
   "cell_type": "code",
   "execution_count": 16,
   "metadata": {},
   "outputs": [
    {
     "name": "stdout",
     "output_type": "stream",
     "text": [
      "tensor([[4., 2., 1., 2.],\n",
      "        [9., 9., 6., 4.],\n",
      "        [9., 5., 3., 5.],\n",
      "        [7., 8., 4., 7.],\n",
      "        [0., 4., 1., 0.],\n",
      "        [4., 5., 2., 1.]])\n"
     ]
    }
   ],
   "source": [
    "print(B)"
   ]
  },
  {
   "cell_type": "code",
   "execution_count": 15,
   "metadata": {},
   "outputs": [
    {
     "name": "stdout",
     "output_type": "stream",
     "text": [
      "Variable   Type      Data/Info\n",
      "------------------------------\n",
      "A          Tensor    tensor([[3.4000, 5.4000, <...>3.7000, 6.8000, 7.1000]])\n",
      "B          Tensor    tensor([[4., 2., 1., 2.],<...>       [4., 5., 2., 1.]])\n",
      "torch      module    <module 'torch' from '/ho<...>kages/torch/__init__.py'>\n"
     ]
    }
   ],
   "source": [
    "%whos"
   ]
  },
  {
   "cell_type": "markdown",
   "metadata": {},
   "source": [
    "Save matrix $B$ as a pt file."
   ]
  },
  {
   "cell_type": "code",
   "execution_count": 17,
   "metadata": {},
   "outputs": [],
   "source": [
    "torch.save(B, \"B.pt\")"
   ]
  },
  {
   "cell_type": "markdown",
   "metadata": {},
   "source": [
    "Delete local matrix $B$ from environment."
   ]
  },
  {
   "cell_type": "code",
   "execution_count": 18,
   "metadata": {},
   "outputs": [],
   "source": [
    "del B"
   ]
  },
  {
   "cell_type": "code",
   "execution_count": 19,
   "metadata": {},
   "outputs": [
    {
     "name": "stdout",
     "output_type": "stream",
     "text": [
      "Variable   Type      Data/Info\n",
      "------------------------------\n",
      "A          Tensor    tensor([[3.4000, 5.4000, <...>3.7000, 6.8000, 7.1000]])\n",
      "torch      module    <module 'torch' from '/ho<...>kages/torch/__init__.py'>\n"
     ]
    }
   ],
   "source": [
    "%whos"
   ]
  },
  {
   "cell_type": "markdown",
   "metadata": {},
   "source": [
    "Load previously saved matrix $B$ to environment."
   ]
  },
  {
   "cell_type": "code",
   "execution_count": 20,
   "metadata": {},
   "outputs": [],
   "source": [
    "B = torch.load(\"B.pt\")"
   ]
  },
  {
   "cell_type": "code",
   "execution_count": 22,
   "metadata": {},
   "outputs": [
    {
     "name": "stdout",
     "output_type": "stream",
     "text": [
      "tensor([[4., 2., 1., 2.],\n",
      "        [9., 9., 6., 4.],\n",
      "        [9., 5., 3., 5.],\n",
      "        [7., 8., 4., 7.],\n",
      "        [0., 4., 1., 0.],\n",
      "        [4., 5., 2., 1.]])\n"
     ]
    }
   ],
   "source": [
    "print(B)"
   ]
  },
  {
   "cell_type": "code",
   "execution_count": 21,
   "metadata": {},
   "outputs": [
    {
     "name": "stdout",
     "output_type": "stream",
     "text": [
      "Variable   Type      Data/Info\n",
      "------------------------------\n",
      "A          Tensor    tensor([[3.4000, 5.4000, <...>3.7000, 6.8000, 7.1000]])\n",
      "B          Tensor    tensor([[4., 2., 1., 2.],<...>       [4., 5., 2., 1.]])\n",
      "torch      module    <module 'torch' from '/ho<...>kages/torch/__init__.py'>\n"
     ]
    }
   ],
   "source": [
    "%whos"
   ]
  },
  {
   "cell_type": "markdown",
   "metadata": {},
   "source": [
    "Create list of matrices, $C$, containing matrices $A$ and $B$."
   ]
  },
  {
   "cell_type": "code",
   "execution_count": 23,
   "metadata": {},
   "outputs": [],
   "source": [
    "C = [A, B]"
   ]
  },
  {
   "cell_type": "code",
   "execution_count": 25,
   "metadata": {},
   "outputs": [
    {
     "name": "stdout",
     "output_type": "stream",
     "text": [
      "[tensor([[3.4000, 5.4000, 2.9000, 7.3000, 2.0000, 9.0000],\n",
      "        [5.7000, 5.2000, 2.2000, 8.0000, 4.0000, 6.5000],\n",
      "        [1.6000, 7.5000, 2.7000, 0.8000, 0.3000, 0.3000],\n",
      "        [1.6000, 4.7000, 4.4000, 3.7000, 6.8000, 7.1000]]), tensor([[4., 2., 1., 2.],\n",
      "        [9., 9., 6., 4.],\n",
      "        [9., 5., 3., 5.],\n",
      "        [7., 8., 4., 7.],\n",
      "        [0., 4., 1., 0.],\n",
      "        [4., 5., 2., 1.]])]\n"
     ]
    }
   ],
   "source": [
    "print(C)"
   ]
  },
  {
   "cell_type": "code",
   "execution_count": 24,
   "metadata": {},
   "outputs": [
    {
     "name": "stdout",
     "output_type": "stream",
     "text": [
      "Variable   Type      Data/Info\n",
      "------------------------------\n",
      "A          Tensor    tensor([[3.4000, 5.4000, <...>3.7000, 6.8000, 7.1000]])\n",
      "B          Tensor    tensor([[4., 2., 1., 2.],<...>       [4., 5., 2., 1.]])\n",
      "C          list      n=2\n",
      "torch      module    <module 'torch' from '/ho<...>kages/torch/__init__.py'>\n"
     ]
    }
   ],
   "source": [
    "%whos"
   ]
  },
  {
   "cell_type": "markdown",
   "metadata": {},
   "source": [
    "Save array of matrices, $C$, as one pt file."
   ]
  },
  {
   "cell_type": "code",
   "execution_count": 26,
   "metadata": {},
   "outputs": [],
   "source": [
    "torch.save(C, \"C.pt\")"
   ]
  },
  {
   "cell_type": "markdown",
   "metadata": {},
   "source": [
    "Delete array of matrices, $C$, from environment."
   ]
  },
  {
   "cell_type": "code",
   "execution_count": 27,
   "metadata": {},
   "outputs": [],
   "source": [
    "del C"
   ]
  },
  {
   "cell_type": "code",
   "execution_count": 28,
   "metadata": {
    "scrolled": true
   },
   "outputs": [
    {
     "name": "stdout",
     "output_type": "stream",
     "text": [
      "Variable   Type      Data/Info\n",
      "------------------------------\n",
      "A          Tensor    tensor([[3.4000, 5.4000, <...>3.7000, 6.8000, 7.1000]])\n",
      "B          Tensor    tensor([[4., 2., 1., 2.],<...>       [4., 5., 2., 1.]])\n",
      "torch      module    <module 'torch' from '/ho<...>kages/torch/__init__.py'>\n"
     ]
    }
   ],
   "source": [
    "%whos"
   ]
  },
  {
   "cell_type": "code",
   "execution_count": 29,
   "metadata": {},
   "outputs": [],
   "source": [
    "C = torch.load(\"C.pt\")"
   ]
  },
  {
   "cell_type": "code",
   "execution_count": 30,
   "metadata": {},
   "outputs": [
    {
     "name": "stdout",
     "output_type": "stream",
     "text": [
      "Variable   Type      Data/Info\n",
      "------------------------------\n",
      "A          Tensor    tensor([[3.4000, 5.4000, <...>3.7000, 6.8000, 7.1000]])\n",
      "B          Tensor    tensor([[4., 2., 1., 2.],<...>       [4., 5., 2., 1.]])\n",
      "C          list      n=2\n",
      "torch      module    <module 'torch' from '/ho<...>kages/torch/__init__.py'>\n"
     ]
    }
   ],
   "source": [
    "%whos"
   ]
  },
  {
   "cell_type": "code",
   "execution_count": null,
   "metadata": {},
   "outputs": [],
   "source": []
  }
 ],
 "metadata": {
  "kernelspec": {
   "display_name": "PyTorch 3.6",
   "language": "python",
   "name": "pytorch_p36"
  },
  "language_info": {
   "codemirror_mode": {
    "name": "ipython",
    "version": 3
   },
   "file_extension": ".py",
   "mimetype": "text/x-python",
   "name": "python",
   "nbconvert_exporter": "python",
   "pygments_lexer": "ipython3",
   "version": "3.6.10"
  }
 },
 "nbformat": 4,
 "nbformat_minor": 4
}
