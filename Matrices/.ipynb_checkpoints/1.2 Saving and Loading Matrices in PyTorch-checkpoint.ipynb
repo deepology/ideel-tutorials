{
 "cells": [
  {
   "cell_type": "code",
   "execution_count": 1,
   "metadata": {},
   "outputs": [],
   "source": [
    "%whos"
   ]
  },
  {
   "cell_type": "code",
   "execution_count": 2,
   "metadata": {},
   "outputs": [],
   "source": [
    "import numpy as np"
   ]
  },
  {
   "cell_type": "code",
   "execution_count": 3,
   "metadata": {},
   "outputs": [
    {
     "name": "stdout",
     "output_type": "stream",
     "text": [
      "Variable   Type      Data/Info\n",
      "------------------------------\n",
      "np         module    <module 'numpy' from '/ho<...>kages/numpy/__init__.py'>\n"
     ]
    }
   ],
   "source": [
    "%whos"
   ]
  },
  {
   "cell_type": "markdown",
   "metadata": {},
   "source": [
    "---\n",
    "\n",
    "$A = \n",
    "    \\begin{bmatrix}\n",
    "        3.4 & 5.4 & 2.9 & 7.3 & 2.0 & 9.0 \\\\\n",
    "        5.7 & 5.2 & 2.2 & 8.0 & 4.0 & 6.5 \\\\\n",
    "        1.6 & 7.5 & 2.7 & 0.8 & 0.3 & 0.3 \\\\\n",
    "        1.6 & 4.7 & 4.4 & 3.7 & 6.8 & 7.1\n",
    "    \\end{bmatrix} $\n",
    "    "
   ]
  },
  {
   "cell_type": "code",
   "execution_count": 4,
   "metadata": {},
   "outputs": [
    {
     "name": "stdout",
     "output_type": "stream",
     "text": [
      "Variable   Type      Data/Info\n",
      "------------------------------\n",
      "np         module    <module 'numpy' from '/ho<...>kages/numpy/__init__.py'>\n"
     ]
    }
   ],
   "source": [
    "%whos"
   ]
  },
  {
   "cell_type": "code",
   "execution_count": 5,
   "metadata": {},
   "outputs": [],
   "source": [
    "A = np.array([[3.4, 5.4, 2.9, 7.3, 2.0, 9.0],\n",
    "              [5.7, 5.2, 2.2, 8.0, 4.0, 6.5],\n",
    "              [1.6, 7.5, 2.7, 0.8, 0.3, 0.3],\n",
    "              [1.6, 4.7, 4.4, 3.7, 6.8, 7.1]])"
   ]
  },
  {
   "cell_type": "code",
   "execution_count": 6,
   "metadata": {},
   "outputs": [
    {
     "name": "stdout",
     "output_type": "stream",
     "text": [
      "Variable   Type       Data/Info\n",
      "-------------------------------\n",
      "A          ndarray    4x6: 24 elems, type `float64`, 192 bytes\n",
      "np         module     <module 'numpy' from '/ho<...>kages/numpy/__init__.py'>\n"
     ]
    }
   ],
   "source": [
    "%whos"
   ]
  },
  {
   "cell_type": "code",
   "execution_count": 7,
   "metadata": {},
   "outputs": [
    {
     "name": "stdout",
     "output_type": "stream",
     "text": [
      "[[3.4 5.4 2.9 7.3 2.  9. ]\n",
      " [5.7 5.2 2.2 8.  4.  6.5]\n",
      " [1.6 7.5 2.7 0.8 0.3 0.3]\n",
      " [1.6 4.7 4.4 3.7 6.8 7.1]]\n"
     ]
    }
   ],
   "source": [
    "print(A)"
   ]
  },
  {
   "cell_type": "code",
   "execution_count": 8,
   "metadata": {},
   "outputs": [],
   "source": [
    "np.save(\"A.npy\", A)"
   ]
  },
  {
   "cell_type": "code",
   "execution_count": 9,
   "metadata": {},
   "outputs": [],
   "source": [
    "del A"
   ]
  },
  {
   "cell_type": "code",
   "execution_count": 10,
   "metadata": {},
   "outputs": [
    {
     "name": "stdout",
     "output_type": "stream",
     "text": [
      "Variable   Type      Data/Info\n",
      "------------------------------\n",
      "np         module    <module 'numpy' from '/ho<...>kages/numpy/__init__.py'>\n"
     ]
    }
   ],
   "source": [
    "%whos"
   ]
  },
  {
   "cell_type": "code",
   "execution_count": 11,
   "metadata": {},
   "outputs": [],
   "source": [
    "A = np.load(\"A.npy\")"
   ]
  },
  {
   "cell_type": "code",
   "execution_count": 12,
   "metadata": {},
   "outputs": [
    {
     "name": "stdout",
     "output_type": "stream",
     "text": [
      "Variable   Type       Data/Info\n",
      "-------------------------------\n",
      "A          ndarray    4x6: 24 elems, type `float64`, 192 bytes\n",
      "np         module     <module 'numpy' from '/ho<...>kages/numpy/__init__.py'>\n"
     ]
    }
   ],
   "source": [
    "%whos"
   ]
  },
  {
   "cell_type": "code",
   "execution_count": 13,
   "metadata": {},
   "outputs": [
    {
     "name": "stdout",
     "output_type": "stream",
     "text": [
      "[[3.4 5.4 2.9 7.3 2.  9. ]\n",
      " [5.7 5.2 2.2 8.  4.  6.5]\n",
      " [1.6 7.5 2.7 0.8 0.3 0.3]\n",
      " [1.6 4.7 4.4 3.7 6.8 7.1]]\n"
     ]
    }
   ],
   "source": [
    "print(A)"
   ]
  },
  {
   "cell_type": "markdown",
   "metadata": {},
   "source": [
    "---\n",
    "\n",
    "$B = \n",
    "    \\begin{bmatrix}\n",
    "        4.2 & 2.0 & 1.9 & 2.8 \\\\\n",
    "        9.4 & 9.1 & 6.0 & 4.7 \\\\\n",
    "        9.6 & 5.0 & 3.2 & 5.1 \\\\\n",
    "        7.1 & 8.5 & 4.9 & 7.3 \\\\\n",
    "        0.6 & 4.3 & 1.5 & 0.2 \\\\\n",
    "        4.8 & 5.0 & 2.4 & 1.7\n",
    "    \\end{bmatrix} $"
   ]
  },
  {
   "cell_type": "code",
   "execution_count": 14,
   "metadata": {},
   "outputs": [],
   "source": [
    "B = np.array([[4, 2, 1, 2],\n",
    "              [9, 9, 6, 4],\n",
    "              [9, 5, 3, 5],\n",
    "              [7, 8, 4, 7],\n",
    "              [0, 4, 1, 0],\n",
    "              [4, 5, 2, 1]])"
   ]
  },
  {
   "cell_type": "code",
   "execution_count": 15,
   "metadata": {},
   "outputs": [
    {
     "name": "stdout",
     "output_type": "stream",
     "text": [
      "Variable   Type       Data/Info\n",
      "-------------------------------\n",
      "A          ndarray    4x6: 24 elems, type `float64`, 192 bytes\n",
      "B          ndarray    6x4: 24 elems, type `int64`, 192 bytes\n",
      "np         module     <module 'numpy' from '/ho<...>kages/numpy/__init__.py'>\n"
     ]
    }
   ],
   "source": [
    "%whos"
   ]
  },
  {
   "cell_type": "code",
   "execution_count": 16,
   "metadata": {},
   "outputs": [
    {
     "name": "stdout",
     "output_type": "stream",
     "text": [
      "[[4 2 1 2]\n",
      " [9 9 6 4]\n",
      " [9 5 3 5]\n",
      " [7 8 4 7]\n",
      " [0 4 1 0]\n",
      " [4 5 2 1]]\n"
     ]
    }
   ],
   "source": [
    "print(B)"
   ]
  },
  {
   "cell_type": "code",
   "execution_count": 17,
   "metadata": {},
   "outputs": [],
   "source": [
    "np.save(\"B.npy\", B)"
   ]
  },
  {
   "cell_type": "code",
   "execution_count": 18,
   "metadata": {},
   "outputs": [],
   "source": [
    "del B"
   ]
  },
  {
   "cell_type": "code",
   "execution_count": 19,
   "metadata": {},
   "outputs": [
    {
     "name": "stdout",
     "output_type": "stream",
     "text": [
      "Variable   Type       Data/Info\n",
      "-------------------------------\n",
      "A          ndarray    4x6: 24 elems, type `float64`, 192 bytes\n",
      "np         module     <module 'numpy' from '/ho<...>kages/numpy/__init__.py'>\n"
     ]
    }
   ],
   "source": [
    "%whos"
   ]
  },
  {
   "cell_type": "code",
   "execution_count": 20,
   "metadata": {},
   "outputs": [],
   "source": [
    "B = np.load(\"B.npy\")"
   ]
  },
  {
   "cell_type": "code",
   "execution_count": 21,
   "metadata": {},
   "outputs": [
    {
     "name": "stdout",
     "output_type": "stream",
     "text": [
      "Variable   Type       Data/Info\n",
      "-------------------------------\n",
      "A          ndarray    4x6: 24 elems, type `float64`, 192 bytes\n",
      "B          ndarray    6x4: 24 elems, type `int64`, 192 bytes\n",
      "np         module     <module 'numpy' from '/ho<...>kages/numpy/__init__.py'>\n"
     ]
    }
   ],
   "source": [
    "%whos"
   ]
  },
  {
   "cell_type": "code",
   "execution_count": 22,
   "metadata": {},
   "outputs": [
    {
     "name": "stdout",
     "output_type": "stream",
     "text": [
      "[[4 2 1 2]\n",
      " [9 9 6 4]\n",
      " [9 5 3 5]\n",
      " [7 8 4 7]\n",
      " [0 4 1 0]\n",
      " [4 5 2 1]]\n"
     ]
    }
   ],
   "source": [
    "print(B)"
   ]
  },
  {
   "cell_type": "code",
   "execution_count": 23,
   "metadata": {},
   "outputs": [],
   "source": [
    "C = np.array([A, B], dtype=np.object)"
   ]
  },
  {
   "cell_type": "code",
   "execution_count": 24,
   "metadata": {},
   "outputs": [
    {
     "name": "stdout",
     "output_type": "stream",
     "text": [
      "Variable   Type       Data/Info\n",
      "-------------------------------\n",
      "A          ndarray    4x6: 24 elems, type `float64`, 192 bytes\n",
      "B          ndarray    6x4: 24 elems, type `int64`, 192 bytes\n",
      "C          ndarray    2: 2 elems, type `object`, 16 bytes\n",
      "np         module     <module 'numpy' from '/ho<...>kages/numpy/__init__.py'>\n"
     ]
    }
   ],
   "source": [
    "%whos"
   ]
  },
  {
   "cell_type": "code",
   "execution_count": 25,
   "metadata": {},
   "outputs": [
    {
     "name": "stdout",
     "output_type": "stream",
     "text": [
      "[array([[3.4, 5.4, 2.9, 7.3, 2. , 9. ],\n",
      "       [5.7, 5.2, 2.2, 8. , 4. , 6.5],\n",
      "       [1.6, 7.5, 2.7, 0.8, 0.3, 0.3],\n",
      "       [1.6, 4.7, 4.4, 3.7, 6.8, 7.1]])\n",
      " array([[4, 2, 1, 2],\n",
      "       [9, 9, 6, 4],\n",
      "       [9, 5, 3, 5],\n",
      "       [7, 8, 4, 7],\n",
      "       [0, 4, 1, 0],\n",
      "       [4, 5, 2, 1]])]\n"
     ]
    }
   ],
   "source": [
    "print(C)"
   ]
  },
  {
   "cell_type": "code",
   "execution_count": 26,
   "metadata": {},
   "outputs": [],
   "source": [
    "np.save(\"C.npy\", C)"
   ]
  },
  {
   "cell_type": "code",
   "execution_count": 27,
   "metadata": {},
   "outputs": [],
   "source": [
    "del C"
   ]
  },
  {
   "cell_type": "code",
   "execution_count": 28,
   "metadata": {},
   "outputs": [
    {
     "name": "stdout",
     "output_type": "stream",
     "text": [
      "Variable   Type       Data/Info\n",
      "-------------------------------\n",
      "A          ndarray    4x6: 24 elems, type `float64`, 192 bytes\n",
      "B          ndarray    6x4: 24 elems, type `int64`, 192 bytes\n",
      "np         module     <module 'numpy' from '/ho<...>kages/numpy/__init__.py'>\n"
     ]
    }
   ],
   "source": [
    "%whos"
   ]
  },
  {
   "cell_type": "code",
   "execution_count": 29,
   "metadata": {},
   "outputs": [],
   "source": [
    "C = np.load(\"C.npy\", allow_pickle=True)"
   ]
  },
  {
   "cell_type": "code",
   "execution_count": 30,
   "metadata": {},
   "outputs": [
    {
     "name": "stdout",
     "output_type": "stream",
     "text": [
      "Variable   Type       Data/Info\n",
      "-------------------------------\n",
      "A          ndarray    4x6: 24 elems, type `float64`, 192 bytes\n",
      "B          ndarray    6x4: 24 elems, type `int64`, 192 bytes\n",
      "C          ndarray    2: 2 elems, type `object`, 16 bytes\n",
      "np         module     <module 'numpy' from '/ho<...>kages/numpy/__init__.py'>\n"
     ]
    }
   ],
   "source": [
    "%whos"
   ]
  },
  {
   "cell_type": "code",
   "execution_count": null,
   "metadata": {},
   "outputs": [],
   "source": []
  }
 ],
 "metadata": {
  "kernelspec": {
   "display_name": "PyTorch 3.6",
   "language": "python",
   "name": "pytorch_p36"
  },
  "language_info": {
   "codemirror_mode": {
    "name": "ipython",
    "version": 3
   },
   "file_extension": ".py",
   "mimetype": "text/x-python",
   "name": "python",
   "nbconvert_exporter": "python",
   "pygments_lexer": "ipython3",
   "version": "3.6.10"
  }
 },
 "nbformat": 4,
 "nbformat_minor": 4
}
